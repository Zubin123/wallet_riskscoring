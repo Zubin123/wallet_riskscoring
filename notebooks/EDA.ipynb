{
 "cells": [
  {
   "cell_type": "code",
   "execution_count": 36,
   "id": "f516429d",
   "metadata": {},
   "outputs": [],
   "source": [
    "import os"
   ]
  },
  {
   "cell_type": "code",
   "execution_count": 37,
   "id": "1c7def24",
   "metadata": {},
   "outputs": [
    {
     "data": {
      "text/plain": [
       "'c:\\\\Users\\\\LENOVO\\\\wallet_riskscoring'"
      ]
     },
     "execution_count": 37,
     "metadata": {},
     "output_type": "execute_result"
    }
   ],
   "source": [
    "%pwd"
   ]
  },
  {
   "cell_type": "code",
   "execution_count": 3,
   "id": "7e12af82",
   "metadata": {},
   "outputs": [],
   "source": [
    "os.chdir('..')"
   ]
  },
  {
   "cell_type": "code",
   "execution_count": 4,
   "id": "b0ef73af",
   "metadata": {},
   "outputs": [
    {
     "data": {
      "text/plain": [
       "'c:\\\\Users\\\\LENOVO\\\\wallet_riskscoring'"
      ]
     },
     "execution_count": 4,
     "metadata": {},
     "output_type": "execute_result"
    }
   ],
   "source": [
    "%pwd"
   ]
  },
  {
   "cell_type": "code",
   "execution_count": 38,
   "id": "5bf25dcb",
   "metadata": {},
   "outputs": [],
   "source": [
    "import pandas as pd\n",
    "import numpy as np\n",
    "import requests\n",
    "from tqdm import tqdm\n"
   ]
  },
  {
   "cell_type": "markdown",
   "id": "afb9d4d4",
   "metadata": {},
   "source": [
    "# Fetch Transaction History"
   ]
  },
  {
   "cell_type": "code",
   "execution_count": null,
   "id": "dc440986",
   "metadata": {},
   "outputs": [],
   "source": [
    "\n",
    "COVALENT_API_KEY = 'cqt_rQd3HQxkHqxQdvfwbpwgfDwtdHMK'  # Replace with your actual API key\n",
    "COVALENT_BASE_URL = 'https://api.covalenthq.com/v1'\n",
    "CHAIN_ID = '1'  # Ethereum Mainnet"
   ]
  },
  {
   "cell_type": "code",
   "execution_count": 40,
   "id": "aecd2bc5",
   "metadata": {},
   "outputs": [
    {
     "data": {
      "text/html": [
       "<div>\n",
       "<style scoped>\n",
       "    .dataframe tbody tr th:only-of-type {\n",
       "        vertical-align: middle;\n",
       "    }\n",
       "\n",
       "    .dataframe tbody tr th {\n",
       "        vertical-align: top;\n",
       "    }\n",
       "\n",
       "    .dataframe thead th {\n",
       "        text-align: right;\n",
       "    }\n",
       "</style>\n",
       "<table border=\"1\" class=\"dataframe\">\n",
       "  <thead>\n",
       "    <tr style=\"text-align: right;\">\n",
       "      <th></th>\n",
       "      <th>wallet_id</th>\n",
       "    </tr>\n",
       "  </thead>\n",
       "  <tbody>\n",
       "    <tr>\n",
       "      <th>0</th>\n",
       "      <td>0x0039f22efb07a647557c7c5d17854cfd6d489ef3</td>\n",
       "    </tr>\n",
       "    <tr>\n",
       "      <th>1</th>\n",
       "      <td>0x06b51c6882b27cb05e712185531c1f74996dd988</td>\n",
       "    </tr>\n",
       "    <tr>\n",
       "      <th>2</th>\n",
       "      <td>0x0795732aacc448030ef374374eaae57d2965c16c</td>\n",
       "    </tr>\n",
       "    <tr>\n",
       "      <th>3</th>\n",
       "      <td>0x0aaa79f1a86bc8136cd0d1ca0d51964f4e3766f9</td>\n",
       "    </tr>\n",
       "    <tr>\n",
       "      <th>4</th>\n",
       "      <td>0x0fe383e5abc200055a7f391f94a5f5d1f844b9ae</td>\n",
       "    </tr>\n",
       "  </tbody>\n",
       "</table>\n",
       "</div>"
      ],
      "text/plain": [
       "                                    wallet_id\n",
       "0  0x0039f22efb07a647557c7c5d17854cfd6d489ef3\n",
       "1  0x06b51c6882b27cb05e712185531c1f74996dd988\n",
       "2  0x0795732aacc448030ef374374eaae57d2965c16c\n",
       "3  0x0aaa79f1a86bc8136cd0d1ca0d51964f4e3766f9\n",
       "4  0x0fe383e5abc200055a7f391f94a5f5d1f844b9ae"
      ]
     },
     "execution_count": 40,
     "metadata": {},
     "output_type": "execute_result"
    }
   ],
   "source": [
    "wallet_df.columns = ['wallet_id']  # Ensure column is named 'wallet_id'\n",
    "wallet_df.head()"
   ]
  },
  {
   "cell_type": "code",
   "execution_count": 41,
   "id": "6b0807a3",
   "metadata": {},
   "outputs": [
    {
     "name": "stderr",
     "output_type": "stream",
     "text": [
      "  1%|          | 1/103 [00:15<26:06, 15.36s/it]"
     ]
    },
    {
     "name": "stdout",
     "output_type": "stream",
     "text": [
      "✅ Wallet 0x0039f22efb07a647557c7c5d17854cfd6d489ef3 has 1000 txns\n"
     ]
    },
    {
     "name": "stderr",
     "output_type": "stream",
     "text": [
      "  2%|▏         | 2/103 [00:17<12:20,  7.33s/it]"
     ]
    },
    {
     "name": "stdout",
     "output_type": "stream",
     "text": [
      "✅ Wallet 0x06b51c6882b27cb05e712185531c1f74996dd988 has 5 txns\n"
     ]
    },
    {
     "name": "stderr",
     "output_type": "stream",
     "text": [
      "  3%|▎         | 3/103 [00:18<07:48,  4.69s/it]"
     ]
    },
    {
     "name": "stdout",
     "output_type": "stream",
     "text": [
      "✅ Wallet 0x0795732aacc448030ef374374eaae57d2965c16c has 4 txns\n"
     ]
    },
    {
     "name": "stderr",
     "output_type": "stream",
     "text": [
      "  4%|▍         | 4/103 [00:26<09:52,  5.98s/it]"
     ]
    },
    {
     "name": "stdout",
     "output_type": "stream",
     "text": [
      "✅ Wallet 0x0aaa79f1a86bc8136cd0d1ca0d51964f4e3766f9 has 80 txns\n"
     ]
    },
    {
     "name": "stderr",
     "output_type": "stream",
     "text": [
      "  5%|▍         | 5/103 [00:28<07:13,  4.42s/it]"
     ]
    },
    {
     "name": "stdout",
     "output_type": "stream",
     "text": [
      "✅ Wallet 0x0fe383e5abc200055a7f391f94a5f5d1f844b9ae has 5 txns\n"
     ]
    },
    {
     "name": "stderr",
     "output_type": "stream",
     "text": [
      "  6%|▌         | 6/103 [00:30<05:54,  3.65s/it]"
     ]
    },
    {
     "name": "stdout",
     "output_type": "stream",
     "text": [
      "✅ Wallet 0x104ae61d8d487ad689969a17807ddc338b445416 has 6 txns\n"
     ]
    },
    {
     "name": "stderr",
     "output_type": "stream",
     "text": [
      "  7%|▋         | 7/103 [00:32<04:49,  3.01s/it]"
     ]
    },
    {
     "name": "stdout",
     "output_type": "stream",
     "text": [
      "✅ Wallet 0x111c7208a7e2af345d36b6d4aace8740d61a3078 has 6 txns\n"
     ]
    },
    {
     "name": "stderr",
     "output_type": "stream",
     "text": [
      "  8%|▊         | 8/103 [00:33<04:02,  2.55s/it]"
     ]
    },
    {
     "name": "stdout",
     "output_type": "stream",
     "text": [
      "✅ Wallet 0x124853fecb522c57d9bd5c21231058696ca6d596 has 7 txns\n"
     ]
    },
    {
     "name": "stderr",
     "output_type": "stream",
     "text": [
      "  9%|▊         | 9/103 [00:35<03:33,  2.27s/it]"
     ]
    },
    {
     "name": "stdout",
     "output_type": "stream",
     "text": [
      "✅ Wallet 0x13b1c8b0e696aff8b4fee742119b549b605f3cbc has 4 txns\n"
     ]
    },
    {
     "name": "stderr",
     "output_type": "stream",
     "text": [
      " 10%|▉         | 10/103 [00:38<04:06,  2.65s/it]"
     ]
    },
    {
     "name": "stdout",
     "output_type": "stream",
     "text": [
      "✅ Wallet 0x1656f1886c5ab634ac19568cd571bc72f385fdf7 has 133 txns\n"
     ]
    },
    {
     "name": "stderr",
     "output_type": "stream",
     "text": [
      " 11%|█         | 11/103 [00:40<03:30,  2.29s/it]"
     ]
    },
    {
     "name": "stdout",
     "output_type": "stream",
     "text": [
      "✅ Wallet 0x1724e16cb8d0e2aa4d08035bc6b5c56b680a3b22 has 6 txns\n"
     ]
    },
    {
     "name": "stderr",
     "output_type": "stream",
     "text": [
      " 12%|█▏        | 12/103 [00:44<04:16,  2.82s/it]"
     ]
    },
    {
     "name": "stdout",
     "output_type": "stream",
     "text": [
      "✅ Wallet 0x19df3e87f73c4aaf4809295561465b993e102668 has 31 txns\n"
     ]
    },
    {
     "name": "stderr",
     "output_type": "stream",
     "text": [
      " 13%|█▎        | 13/103 [00:46<03:44,  2.50s/it]"
     ]
    },
    {
     "name": "stdout",
     "output_type": "stream",
     "text": [
      "✅ Wallet 0x1ab2ccad4fc97c9968ea87d4435326715be32872 has 5 txns\n"
     ]
    },
    {
     "name": "stderr",
     "output_type": "stream",
     "text": [
      " 14%|█▎        | 14/103 [00:50<04:25,  2.98s/it]"
     ]
    },
    {
     "name": "stdout",
     "output_type": "stream",
     "text": [
      "✅ Wallet 0x1c1b30ca93ef57452d53885d97a74f61daf2bf4f has 121 txns\n"
     ]
    },
    {
     "name": "stderr",
     "output_type": "stream",
     "text": [
      " 15%|█▍        | 15/103 [00:51<03:44,  2.55s/it]"
     ]
    },
    {
     "name": "stdout",
     "output_type": "stream",
     "text": [
      "✅ Wallet 0x1e43dacdcf863676a6bec8f7d6896d6252fac669 has 3 txns\n"
     ]
    },
    {
     "name": "stderr",
     "output_type": "stream",
     "text": [
      " 16%|█▌        | 16/103 [00:58<05:23,  3.72s/it]"
     ]
    },
    {
     "name": "stdout",
     "output_type": "stream",
     "text": [
      "✅ Wallet 0x22d7510588d90ed5a87e0f838391aaafa707c34b has 76 txns\n"
     ]
    },
    {
     "name": "stderr",
     "output_type": "stream",
     "text": [
      " 17%|█▋        | 17/103 [00:59<04:22,  3.06s/it]"
     ]
    },
    {
     "name": "stdout",
     "output_type": "stream",
     "text": [
      "✅ Wallet 0x24b3460622d835c56d9a4fe352966b9bdc6c20af has 22 txns\n"
     ]
    },
    {
     "name": "stderr",
     "output_type": "stream",
     "text": [
      " 17%|█▋        | 18/103 [01:04<05:01,  3.54s/it]"
     ]
    },
    {
     "name": "stdout",
     "output_type": "stream",
     "text": [
      "✅ Wallet 0x26750f1f4277221bdb5f6991473c6ece8c821f9d has 7 txns\n"
     ]
    },
    {
     "name": "stderr",
     "output_type": "stream",
     "text": [
      " 18%|█▊        | 19/103 [01:05<03:59,  2.85s/it]"
     ]
    },
    {
     "name": "stdout",
     "output_type": "stream",
     "text": [
      "✅ Wallet 0x27f72a000d8e9f324583f3a3491ea66998275b28 has 5 txns\n"
     ]
    },
    {
     "name": "stderr",
     "output_type": "stream",
     "text": [
      " 19%|█▉        | 20/103 [01:07<03:24,  2.47s/it]"
     ]
    },
    {
     "name": "stdout",
     "output_type": "stream",
     "text": [
      "✅ Wallet 0x2844658bf341db96aa247259824f42025e3bcec2 has 4 txns\n"
     ]
    },
    {
     "name": "stderr",
     "output_type": "stream",
     "text": [
      " 20%|██        | 21/103 [01:08<02:52,  2.10s/it]"
     ]
    },
    {
     "name": "stdout",
     "output_type": "stream",
     "text": [
      "✅ Wallet 0x2a2fde3e1beb508fcf7c137a1d5965f13a17825e has 5 txns\n"
     ]
    },
    {
     "name": "stderr",
     "output_type": "stream",
     "text": [
      " 21%|██▏       | 22/103 [01:13<03:55,  2.90s/it]"
     ]
    },
    {
     "name": "stdout",
     "output_type": "stream",
     "text": [
      "✅ Wallet 0x330513970efd9e8dd606275fb4c50378989b3204 has 126 txns\n"
     ]
    },
    {
     "name": "stderr",
     "output_type": "stream",
     "text": [
      " 22%|██▏       | 23/103 [01:16<03:56,  2.95s/it]"
     ]
    },
    {
     "name": "stdout",
     "output_type": "stream",
     "text": [
      "✅ Wallet 0x3361bea43c2f5f963f81ac70f64e6fba1f1d2a97 has 132 txns\n"
     ]
    },
    {
     "name": "stderr",
     "output_type": "stream",
     "text": [
      " 23%|██▎       | 24/103 [01:18<03:25,  2.60s/it]"
     ]
    },
    {
     "name": "stdout",
     "output_type": "stream",
     "text": [
      "✅ Wallet 0x3867d222ba91236ad4d12c31056626f9e798629c has 4 txns\n"
     ]
    },
    {
     "name": "stderr",
     "output_type": "stream",
     "text": [
      " 24%|██▍       | 25/103 [01:19<03:05,  2.37s/it]"
     ]
    },
    {
     "name": "stdout",
     "output_type": "stream",
     "text": [
      "✅ Wallet 0x3a44be4581137019f83021eeee72b7dc57756069 has 4 txns\n"
     ]
    },
    {
     "name": "stderr",
     "output_type": "stream",
     "text": [
      " 25%|██▌       | 26/103 [01:21<02:44,  2.13s/it]"
     ]
    },
    {
     "name": "stdout",
     "output_type": "stream",
     "text": [
      "✅ Wallet 0x3e69ad05716bdc834db72c4d6d44439a7c8a902b has 5 txns\n"
     ]
    },
    {
     "name": "stderr",
     "output_type": "stream",
     "text": [
      " 26%|██▌       | 27/103 [01:26<03:47,  2.99s/it]"
     ]
    },
    {
     "name": "stdout",
     "output_type": "stream",
     "text": [
      "✅ Wallet 0x427f2ac5fdf4245e027d767e7c3ac272a1f40a65 has 204 txns\n"
     ]
    },
    {
     "name": "stderr",
     "output_type": "stream",
     "text": [
      " 27%|██▋       | 28/103 [01:56<13:43, 10.98s/it]"
     ]
    },
    {
     "name": "stdout",
     "output_type": "stream",
     "text": [
      "✅ Wallet 0x4814be124d7fe3b240eb46061f7ddfab468fe122 has 235 txns\n"
     ]
    },
    {
     "name": "stderr",
     "output_type": "stream",
     "text": [
      " 28%|██▊       | 29/103 [02:01<11:28,  9.31s/it]"
     ]
    },
    {
     "name": "stdout",
     "output_type": "stream",
     "text": [
      "✅ Wallet 0x4839e666e2baf12a51bf004392b35972eeddeabf has 20 txns\n"
     ]
    },
    {
     "name": "stderr",
     "output_type": "stream",
     "text": [
      " 29%|██▉       | 30/103 [02:03<08:35,  7.07s/it]"
     ]
    },
    {
     "name": "stdout",
     "output_type": "stream",
     "text": [
      "✅ Wallet 0x4c4d05fe859279c91b074429b5fc451182cec745 has 4 txns\n"
     ]
    },
    {
     "name": "stderr",
     "output_type": "stream",
     "text": [
      " 30%|███       | 31/103 [02:07<07:24,  6.17s/it]"
     ]
    },
    {
     "name": "stdout",
     "output_type": "stream",
     "text": [
      "✅ Wallet 0x4d997c89bc659a3e8452038a8101161e7e7e53a7 has 265 txns\n"
     ]
    },
    {
     "name": "stderr",
     "output_type": "stream",
     "text": [
      " 31%|███       | 32/103 [02:09<05:43,  4.84s/it]"
     ]
    },
    {
     "name": "stdout",
     "output_type": "stream",
     "text": [
      "✅ Wallet 0x4db0a72edb5ea6c55df929f76e7d5bb14e389860 has 5 txns\n"
     ]
    },
    {
     "name": "stderr",
     "output_type": "stream",
     "text": [
      " 32%|███▏      | 33/103 [02:10<04:28,  3.84s/it]"
     ]
    },
    {
     "name": "stdout",
     "output_type": "stream",
     "text": [
      "✅ Wallet 0x4e61251336c32e4fe6bfd5fab014846599321389 has 5 txns\n"
     ]
    },
    {
     "name": "stderr",
     "output_type": "stream",
     "text": [
      " 33%|███▎      | 34/103 [02:12<03:36,  3.14s/it]"
     ]
    },
    {
     "name": "stdout",
     "output_type": "stream",
     "text": [
      "✅ Wallet 0x4e6e724f4163b24ffc7ffe662b5f6815b18b4210 has 6 txns\n"
     ]
    },
    {
     "name": "stderr",
     "output_type": "stream",
     "text": [
      " 34%|███▍      | 35/103 [02:13<02:57,  2.61s/it]"
     ]
    },
    {
     "name": "stdout",
     "output_type": "stream",
     "text": [
      "✅ Wallet 0x507b6c0d950702f066a9a1bd5e85206f87b065ba has 43 txns\n"
     ]
    },
    {
     "name": "stderr",
     "output_type": "stream",
     "text": [
      " 35%|███▍      | 36/103 [02:15<02:40,  2.39s/it]"
     ]
    },
    {
     "name": "stdout",
     "output_type": "stream",
     "text": [
      "✅ Wallet 0x54e19653be9d4143b08994906be0e27555e8834d has 7 txns\n"
     ]
    },
    {
     "name": "stderr",
     "output_type": "stream",
     "text": [
      " 36%|███▌      | 37/103 [02:16<02:15,  2.05s/it]"
     ]
    },
    {
     "name": "stdout",
     "output_type": "stream",
     "text": [
      "✅ Wallet 0x56ba823641bfc317afc8459bf27feed6eb9ff59f has 5 txns\n"
     ]
    },
    {
     "name": "stderr",
     "output_type": "stream",
     "text": [
      " 37%|███▋      | 38/103 [02:25<04:18,  3.98s/it]"
     ]
    },
    {
     "name": "stdout",
     "output_type": "stream",
     "text": [
      "✅ Wallet 0x56cc2bffcb3f86a30c492f9d1a671a1f744d1d2f has 8 txns\n"
     ]
    },
    {
     "name": "stderr",
     "output_type": "stream",
     "text": [
      " 38%|███▊      | 39/103 [02:26<03:28,  3.26s/it]"
     ]
    },
    {
     "name": "stdout",
     "output_type": "stream",
     "text": [
      "✅ Wallet 0x578cea5f899b0dfbf05c7fbcfda1a644b2a47787 has 11 txns\n"
     ]
    },
    {
     "name": "stderr",
     "output_type": "stream",
     "text": [
      " 39%|███▉      | 40/103 [02:28<02:51,  2.73s/it]"
     ]
    },
    {
     "name": "stdout",
     "output_type": "stream",
     "text": [
      "✅ Wallet 0x58c2a9099a03750e9842d3e9a7780cdd6aa70b86 has 5 txns\n"
     ]
    },
    {
     "name": "stderr",
     "output_type": "stream",
     "text": [
      " 40%|███▉      | 41/103 [02:33<03:38,  3.53s/it]"
     ]
    },
    {
     "name": "stdout",
     "output_type": "stream",
     "text": [
      "✅ Wallet 0x58d68d4bcf9725e40353379cec92b90332561683 has 55 txns\n"
     ]
    },
    {
     "name": "stderr",
     "output_type": "stream",
     "text": [
      " 41%|████      | 42/103 [02:35<03:00,  2.96s/it]"
     ]
    },
    {
     "name": "stdout",
     "output_type": "stream",
     "text": [
      "✅ Wallet 0x5e324b4a564512ea7c93088dba2f8c1bf046a3eb has 4 txns\n"
     ]
    },
    {
     "name": "stderr",
     "output_type": "stream",
     "text": [
      " 42%|████▏     | 43/103 [02:41<03:51,  3.85s/it]"
     ]
    },
    {
     "name": "stdout",
     "output_type": "stream",
     "text": [
      "✅ Wallet 0x612a3500559be7be7703de6dc397afb541a16f7f has 122 txns\n"
     ]
    },
    {
     "name": "stderr",
     "output_type": "stream",
     "text": [
      " 43%|████▎     | 44/103 [02:48<04:46,  4.85s/it]"
     ]
    },
    {
     "name": "stdout",
     "output_type": "stream",
     "text": [
      "✅ Wallet 0x623af911f493747c216ad389c7805a37019c662d has 70 txns\n"
     ]
    },
    {
     "name": "stderr",
     "output_type": "stream",
     "text": [
      " 44%|████▎     | 45/103 [02:50<03:51,  3.99s/it]"
     ]
    },
    {
     "name": "stdout",
     "output_type": "stream",
     "text": [
      "✅ Wallet 0x6a2752a534faacaaa153bffbb973dd84e0e5497b has 15 txns\n"
     ]
    },
    {
     "name": "stderr",
     "output_type": "stream",
     "text": [
      " 45%|████▍     | 46/103 [02:52<03:11,  3.35s/it]"
     ]
    },
    {
     "name": "stdout",
     "output_type": "stream",
     "text": [
      "✅ Wallet 0x6d69ca3711e504658977367e13c300ab198379f1 has 5 txns\n"
     ]
    },
    {
     "name": "stderr",
     "output_type": "stream",
     "text": [
      " 46%|████▌     | 47/103 [02:53<02:40,  2.87s/it]"
     ]
    },
    {
     "name": "stdout",
     "output_type": "stream",
     "text": [
      "✅ Wallet 0x6e355417f7f56e7927d1cd971f0b5a1e6d538487 has 16 txns\n"
     ]
    },
    {
     "name": "stderr",
     "output_type": "stream",
     "text": [
      " 47%|████▋     | 48/103 [02:55<02:14,  2.44s/it]"
     ]
    },
    {
     "name": "stdout",
     "output_type": "stream",
     "text": [
      "✅ Wallet 0x70c1864282599a762c674dd9d567b37e13bce755 has 5 txns\n"
     ]
    },
    {
     "name": "stderr",
     "output_type": "stream",
     "text": [
      " 48%|████▊     | 49/103 [03:01<03:06,  3.45s/it]"
     ]
    },
    {
     "name": "stdout",
     "output_type": "stream",
     "text": [
      "✅ Wallet 0x70d8e4ab175dfe0eab4e9a7f33e0a2d19f44001e has 597 txns\n"
     ]
    },
    {
     "name": "stderr",
     "output_type": "stream",
     "text": [
      " 49%|████▊     | 50/103 [03:03<02:41,  3.05s/it]"
     ]
    },
    {
     "name": "stdout",
     "output_type": "stream",
     "text": [
      "✅ Wallet 0x7399dbeebe2f88bc6ac4e3fd7ddb836a4bce322f has 4 txns\n"
     ]
    },
    {
     "name": "stderr",
     "output_type": "stream",
     "text": [
      " 50%|████▉     | 51/103 [03:05<02:22,  2.73s/it]"
     ]
    },
    {
     "name": "stdout",
     "output_type": "stream",
     "text": [
      "✅ Wallet 0x767055590c73b7d2aaa6219da13807c493f91a20 has 4 txns\n"
     ]
    },
    {
     "name": "stderr",
     "output_type": "stream",
     "text": [
      " 50%|█████     | 52/103 [03:16<04:29,  5.28s/it]"
     ]
    },
    {
     "name": "stdout",
     "output_type": "stream",
     "text": [
      "✅ Wallet 0x7851bdfb64bbecfb40c030d722a1f147dff5db6a has 9 txns\n"
     ]
    },
    {
     "name": "stderr",
     "output_type": "stream",
     "text": [
      " 51%|█████▏    | 53/103 [03:18<03:38,  4.36s/it]"
     ]
    },
    {
     "name": "stdout",
     "output_type": "stream",
     "text": [
      "✅ Wallet 0x7b4636320daa0bc055368a4f9b9d01bd8ac51877 has 11 txns\n"
     ]
    },
    {
     "name": "stderr",
     "output_type": "stream",
     "text": [
      " 52%|█████▏    | 54/103 [03:19<02:46,  3.39s/it]"
     ]
    },
    {
     "name": "stdout",
     "output_type": "stream",
     "text": [
      "✅ Wallet 0x7b57dbe2f2e4912a29754ff3e412ed9507fd8957 has 7 txns\n"
     ]
    },
    {
     "name": "stderr",
     "output_type": "stream",
     "text": [
      " 53%|█████▎    | 55/103 [03:20<02:09,  2.71s/it]"
     ]
    },
    {
     "name": "stdout",
     "output_type": "stream",
     "text": [
      "✅ Wallet 0x7be3dfb5b6fcbae542ea85e76cc19916a20f6c1e has 4 txns\n"
     ]
    },
    {
     "name": "stderr",
     "output_type": "stream",
     "text": [
      " 54%|█████▍    | 56/103 [03:22<01:50,  2.36s/it]"
     ]
    },
    {
     "name": "stdout",
     "output_type": "stream",
     "text": [
      "✅ Wallet 0x7de76a449cf60ea3e111ff18b28e516d89532152 has 4 txns\n"
     ]
    },
    {
     "name": "stderr",
     "output_type": "stream",
     "text": [
      " 55%|█████▌    | 57/103 [03:27<02:29,  3.25s/it]"
     ]
    },
    {
     "name": "stdout",
     "output_type": "stream",
     "text": [
      "✅ Wallet 0x7e3eab408b9c76a13305ef34606f17c16f7b33cc has 15 txns\n"
     ]
    },
    {
     "name": "stderr",
     "output_type": "stream",
     "text": [
      " 56%|█████▋    | 58/103 [03:29<02:07,  2.83s/it]"
     ]
    },
    {
     "name": "stdout",
     "output_type": "stream",
     "text": [
      "✅ Wallet 0x7f5e6a28afc9fb0aaf4259d4ff69991b88ebea47 has 4 txns\n"
     ]
    },
    {
     "name": "stderr",
     "output_type": "stream",
     "text": [
      " 57%|█████▋    | 59/103 [03:34<02:36,  3.55s/it]"
     ]
    },
    {
     "name": "stdout",
     "output_type": "stream",
     "text": [
      "✅ Wallet 0x83ea74c67d393c6894c34c464657bda2183a2f1a has 7 txns\n"
     ]
    },
    {
     "name": "stderr",
     "output_type": "stream",
     "text": [
      " 58%|█████▊    | 60/103 [03:46<04:18,  6.01s/it]"
     ]
    },
    {
     "name": "stdout",
     "output_type": "stream",
     "text": [
      "✅ Wallet 0x8441fecef5cc6f697be2c4fc4a36feacede8df67 has 24 txns\n"
     ]
    },
    {
     "name": "stderr",
     "output_type": "stream",
     "text": [
      " 59%|█████▉    | 61/103 [03:47<03:10,  4.53s/it]"
     ]
    },
    {
     "name": "stdout",
     "output_type": "stream",
     "text": [
      "✅ Wallet 0x854a873b8f9bfac36a5eb9c648e285a095a7478d has 4 txns\n"
     ]
    },
    {
     "name": "stderr",
     "output_type": "stream",
     "text": [
      " 60%|██████    | 62/103 [03:48<02:23,  3.50s/it]"
     ]
    },
    {
     "name": "stdout",
     "output_type": "stream",
     "text": [
      "✅ Wallet 0x8587d9f794f06d976c2ec1cfd523983b856f5ca9 has 5 txns\n"
     ]
    },
    {
     "name": "stderr",
     "output_type": "stream",
     "text": [
      " 61%|██████    | 63/103 [03:50<02:03,  3.09s/it]"
     ]
    },
    {
     "name": "stdout",
     "output_type": "stream",
     "text": [
      "✅ Wallet 0x880a0af12da55df1197f41697c1a1b61670ed410 has 17 txns\n"
     ]
    },
    {
     "name": "stderr",
     "output_type": "stream",
     "text": [
      " 62%|██████▏   | 64/103 [03:52<01:46,  2.73s/it]"
     ]
    },
    {
     "name": "stdout",
     "output_type": "stream",
     "text": [
      "✅ Wallet 0x8aaece100580b749a20f8ce30338c4e0770b65ed has 5 txns\n"
     ]
    },
    {
     "name": "stderr",
     "output_type": "stream",
     "text": [
      " 63%|██████▎   | 65/103 [03:58<02:17,  3.61s/it]"
     ]
    },
    {
     "name": "stdout",
     "output_type": "stream",
     "text": [
      "✅ Wallet 0x8be38ea2b22b706aef313c2de81f7d179024dd30 has 33 txns\n"
     ]
    },
    {
     "name": "stderr",
     "output_type": "stream",
     "text": [
      " 64%|██████▍   | 66/103 [04:00<01:55,  3.12s/it]"
     ]
    },
    {
     "name": "stdout",
     "output_type": "stream",
     "text": [
      "✅ Wallet 0x8d900f213db5205c529aaba5d10e71a0ed2646db has 15 txns\n"
     ]
    },
    {
     "name": "stderr",
     "output_type": "stream",
     "text": [
      " 65%|██████▌   | 67/103 [04:02<01:40,  2.79s/it]"
     ]
    },
    {
     "name": "stdout",
     "output_type": "stream",
     "text": [
      "✅ Wallet 0x91919344c1dad09772d19ad8ad4f1bcd29c51f27 has 4 txns\n"
     ]
    },
    {
     "name": "stderr",
     "output_type": "stream",
     "text": [
      " 66%|██████▌   | 68/103 [04:03<01:24,  2.40s/it]"
     ]
    },
    {
     "name": "stdout",
     "output_type": "stream",
     "text": [
      "✅ Wallet 0x93f0891bf71d8abed78e0de0885bd26355bb8b1d has 5 txns\n"
     ]
    },
    {
     "name": "stderr",
     "output_type": "stream",
     "text": [
      " 67%|██████▋   | 69/103 [04:08<01:45,  3.11s/it]"
     ]
    },
    {
     "name": "stdout",
     "output_type": "stream",
     "text": [
      "✅ Wallet 0x96479b087cb8f236a5e2dcbfc50ce63b2f421da6 has 632 txns\n"
     ]
    },
    {
     "name": "stderr",
     "output_type": "stream",
     "text": [
      " 68%|██████▊   | 70/103 [04:10<01:31,  2.77s/it]"
     ]
    },
    {
     "name": "stdout",
     "output_type": "stream",
     "text": [
      "✅ Wallet 0x96bb4447a02b95f1d1e85374cffd565eb22ed2f8 has 3 txns\n"
     ]
    },
    {
     "name": "stderr",
     "output_type": "stream",
     "text": [
      " 69%|██████▉   | 71/103 [04:16<01:55,  3.60s/it]"
     ]
    },
    {
     "name": "stdout",
     "output_type": "stream",
     "text": [
      "✅ Wallet 0x9a363adc5d382c04d36b09158286328f75672098 has 12 txns\n"
     ]
    },
    {
     "name": "stderr",
     "output_type": "stream",
     "text": [
      " 70%|██████▉   | 72/103 [04:18<01:36,  3.12s/it]"
     ]
    },
    {
     "name": "stdout",
     "output_type": "stream",
     "text": [
      "✅ Wallet 0x9ad1331c5b6c5a641acffb32719c66a80c6e1a17 has 4 txns\n"
     ]
    },
    {
     "name": "stderr",
     "output_type": "stream",
     "text": [
      " 71%|███████   | 73/103 [04:24<01:59,  3.99s/it]"
     ]
    },
    {
     "name": "stdout",
     "output_type": "stream",
     "text": [
      "✅ Wallet 0x9ba0d85f71e145ccf15225e59631e5a883d5d74a has 60 txns\n"
     ]
    },
    {
     "name": "stderr",
     "output_type": "stream",
     "text": [
      " 72%|███████▏  | 74/103 [04:30<02:16,  4.70s/it]"
     ]
    },
    {
     "name": "stdout",
     "output_type": "stream",
     "text": [
      "✅ Wallet 0x9e6ec4e98793970a1307262ba68d37594e58cd78 has 47 txns\n"
     ]
    },
    {
     "name": "stderr",
     "output_type": "stream",
     "text": [
      " 73%|███████▎  | 75/103 [04:39<02:50,  6.08s/it]"
     ]
    },
    {
     "name": "stdout",
     "output_type": "stream",
     "text": [
      "✅ Wallet 0xa7e94d933eb0c439dda357f61244a485246e97b8 has 4 txns\n"
     ]
    },
    {
     "name": "stderr",
     "output_type": "stream",
     "text": [
      " 74%|███████▍  | 76/103 [05:46<10:50, 24.09s/it]"
     ]
    },
    {
     "name": "stdout",
     "output_type": "stream",
     "text": [
      "✅ Wallet 0xa7f3c74f0255796fd5d3ddcf88db769f7a6bf46a has 946 txns\n"
     ]
    },
    {
     "name": "stderr",
     "output_type": "stream",
     "text": [
      " 75%|███████▍  | 77/103 [05:51<08:00, 18.47s/it]"
     ]
    },
    {
     "name": "stdout",
     "output_type": "stream",
     "text": [
      "✅ Wallet 0xa98dc64bb42575efec7d1e4560c029231ce5da51 has 11 txns\n"
     ]
    },
    {
     "name": "stderr",
     "output_type": "stream",
     "text": [
      " 76%|███████▌  | 78/103 [05:53<05:37, 13.49s/it]"
     ]
    },
    {
     "name": "stdout",
     "output_type": "stream",
     "text": [
      "✅ Wallet 0xb271ff7090b39028eb6e711c3f89a3453d5861ee has 8 txns\n"
     ]
    },
    {
     "name": "stderr",
     "output_type": "stream",
     "text": [
      " 77%|███████▋  | 79/103 [05:55<04:02, 10.12s/it]"
     ]
    },
    {
     "name": "stdout",
     "output_type": "stream",
     "text": [
      "✅ Wallet 0xb475576594ae44e1f75f534f993cbb7673e4c8b6 has 5 txns\n"
     ]
    },
    {
     "name": "stderr",
     "output_type": "stream",
     "text": [
      " 78%|███████▊  | 80/103 [05:57<02:56,  7.66s/it]"
     ]
    },
    {
     "name": "stdout",
     "output_type": "stream",
     "text": [
      "✅ Wallet 0xb57297c5d02def954794e593db93d0a302e43e5c has 11 txns\n"
     ]
    },
    {
     "name": "stderr",
     "output_type": "stream",
     "text": [
      " 79%|███████▊  | 81/103 [06:52<08:02, 21.94s/it]"
     ]
    },
    {
     "name": "stdout",
     "output_type": "stream",
     "text": [
      "✅ Wallet 0xbd4a00764217c13a246f86db58d74541a0c3972a has 580 txns\n"
     ]
    },
    {
     "name": "stderr",
     "output_type": "stream",
     "text": [
      " 80%|███████▉  | 82/103 [06:58<06:00, 17.19s/it]"
     ]
    },
    {
     "name": "stdout",
     "output_type": "stream",
     "text": [
      "✅ Wallet 0xc179d55f7e00e789915760f7d260a1bf6285278b has 12 txns\n"
     ]
    },
    {
     "name": "stderr",
     "output_type": "stream",
     "text": [
      " 81%|████████  | 83/103 [07:05<04:42, 14.12s/it]"
     ]
    },
    {
     "name": "stdout",
     "output_type": "stream",
     "text": [
      "✅ Wallet 0xc22b8e78394ce52e0034609a67ae3c959daa84bc has 95 txns\n"
     ]
    },
    {
     "name": "stderr",
     "output_type": "stream",
     "text": [
      " 82%|████████▏ | 84/103 [07:15<04:03, 12.84s/it]"
     ]
    },
    {
     "name": "stdout",
     "output_type": "stream",
     "text": [
      "✅ Wallet 0xcbbd9fe837a14258286bbf2e182cbc4e4518c5a3 has 140 txns\n"
     ]
    },
    {
     "name": "stderr",
     "output_type": "stream",
     "text": [
      " 83%|████████▎ | 85/103 [07:16<02:47,  9.32s/it]"
     ]
    },
    {
     "name": "stdout",
     "output_type": "stream",
     "text": [
      "✅ Wallet 0xcecf5163bb057c1aff4963d9b9a7d2f0bf591710 has 5 txns\n"
     ]
    },
    {
     "name": "stderr",
     "output_type": "stream",
     "text": [
      " 83%|████████▎ | 86/103 [07:18<01:58,  6.96s/it]"
     ]
    },
    {
     "name": "stdout",
     "output_type": "stream",
     "text": [
      "✅ Wallet 0xcf0033bf27804640e5339e06443e208db5870dd2 has 5 txns\n"
     ]
    },
    {
     "name": "stderr",
     "output_type": "stream",
     "text": [
      " 84%|████████▍ | 87/103 [07:19<01:25,  5.32s/it]"
     ]
    },
    {
     "name": "stdout",
     "output_type": "stream",
     "text": [
      "✅ Wallet 0xd0df53e296c1e3115fccc3d7cdf4ba495e593b56 has 6 txns\n"
     ]
    },
    {
     "name": "stderr",
     "output_type": "stream",
     "text": [
      " 85%|████████▌ | 88/103 [07:21<01:03,  4.23s/it]"
     ]
    },
    {
     "name": "stdout",
     "output_type": "stream",
     "text": [
      "✅ Wallet 0xd1a3888fd8f490367c6104e10b4154427c02dd9c has 5 txns\n"
     ]
    },
    {
     "name": "stderr",
     "output_type": "stream",
     "text": [
      " 86%|████████▋ | 89/103 [07:24<00:54,  3.87s/it]"
     ]
    },
    {
     "name": "stdout",
     "output_type": "stream",
     "text": [
      "✅ Wallet 0xd334d18fa6bada9a10f361bae42a019ce88a3c33 has 6 txns\n"
     ]
    },
    {
     "name": "stderr",
     "output_type": "stream",
     "text": [
      " 87%|████████▋ | 90/103 [07:25<00:39,  3.03s/it]"
     ]
    },
    {
     "name": "stdout",
     "output_type": "stream",
     "text": [
      "✅ Wallet 0xd9d3930ffa343f5a0eec7606d045d0843d3a02b4 has 8 txns\n"
     ]
    },
    {
     "name": "stderr",
     "output_type": "stream",
     "text": [
      " 88%|████████▊ | 91/103 [07:29<00:40,  3.35s/it]"
     ]
    },
    {
     "name": "stdout",
     "output_type": "stream",
     "text": [
      "✅ Wallet 0xdde73df7bd4d704a89ad8421402701b3a460c6e9 has 107 txns\n"
     ]
    },
    {
     "name": "stderr",
     "output_type": "stream",
     "text": [
      " 89%|████████▉ | 92/103 [07:30<00:30,  2.73s/it]"
     ]
    },
    {
     "name": "stdout",
     "output_type": "stream",
     "text": [
      "✅ Wallet 0xde92d70253604fd8c5998c8ee3ed282a41b33b7f has 4 txns\n"
     ]
    },
    {
     "name": "stderr",
     "output_type": "stream",
     "text": [
      " 90%|█████████ | 93/103 [07:32<00:24,  2.41s/it]"
     ]
    },
    {
     "name": "stdout",
     "output_type": "stream",
     "text": [
      "✅ Wallet 0xded1f838ae6aa5fcd0f13481b37ee88e5bdccb3d has 12 txns\n"
     ]
    },
    {
     "name": "stderr",
     "output_type": "stream",
     "text": [
      " 91%|█████████▏| 94/103 [07:33<00:17,  1.99s/it]"
     ]
    },
    {
     "name": "stdout",
     "output_type": "stream",
     "text": [
      "✅ Wallet 0xebb8629e8a3ec86cf90cb7600264415640834483 has 8 txns\n"
     ]
    },
    {
     "name": "stderr",
     "output_type": "stream",
     "text": [
      " 92%|█████████▏| 95/103 [07:34<00:14,  1.76s/it]"
     ]
    },
    {
     "name": "stdout",
     "output_type": "stream",
     "text": [
      "✅ Wallet 0xeded1c8c0a0c532195b8432153f3bfa81dba2a90 has 5 txns\n"
     ]
    },
    {
     "name": "stderr",
     "output_type": "stream",
     "text": [
      " 93%|█████████▎| 96/103 [07:39<00:19,  2.77s/it]"
     ]
    },
    {
     "name": "stdout",
     "output_type": "stream",
     "text": [
      "✅ Wallet 0xf10fd8921019615a856c1e95c7cd3632de34edc4 has 76 txns\n"
     ]
    },
    {
     "name": "stderr",
     "output_type": "stream",
     "text": [
      " 94%|█████████▍| 97/103 [10:30<05:19, 53.24s/it]"
     ]
    },
    {
     "name": "stdout",
     "output_type": "stream",
     "text": [
      "✅ Wallet 0xf340b9f2098f80b86fbc5ede586c319473aa11f3 has 701 txns\n"
     ]
    },
    {
     "name": "stderr",
     "output_type": "stream",
     "text": [
      " 95%|█████████▌| 98/103 [10:32<03:08, 37.74s/it]"
     ]
    },
    {
     "name": "stdout",
     "output_type": "stream",
     "text": [
      "✅ Wallet 0xf54f36bca969800fd7d63a68029561309938c09b has 4 txns\n"
     ]
    },
    {
     "name": "stderr",
     "output_type": "stream",
     "text": [
      " 96%|█████████▌| 99/103 [10:40<01:54, 28.75s/it]"
     ]
    },
    {
     "name": "stdout",
     "output_type": "stream",
     "text": [
      "✅ Wallet 0xf60304b534f74977e159b2e159e135475c245526 has 18 txns\n"
     ]
    },
    {
     "name": "stderr",
     "output_type": "stream",
     "text": [
      " 97%|█████████▋| 100/103 [10:41<01:01, 20.56s/it]"
     ]
    },
    {
     "name": "stdout",
     "output_type": "stream",
     "text": [
      "✅ Wallet 0xf67e8e5805835465f7eba988259db882ab726800 has 4 txns\n"
     ]
    },
    {
     "name": "stderr",
     "output_type": "stream",
     "text": [
      " 98%|█████████▊| 101/103 [10:42<00:29, 14.77s/it]"
     ]
    },
    {
     "name": "stdout",
     "output_type": "stream",
     "text": [
      "✅ Wallet 0xf7aa5d0752cfcd41b0a5945867d619a80c405e52 has 4 txns\n"
     ]
    },
    {
     "name": "stderr",
     "output_type": "stream",
     "text": [
      " 99%|█████████▉| 102/103 [10:48<00:11, 11.98s/it]"
     ]
    },
    {
     "name": "stdout",
     "output_type": "stream",
     "text": [
      "✅ Wallet 0xf80a8b9cfff0febf49914c269fb8aead4a22f847 has 13 txns\n"
     ]
    },
    {
     "name": "stderr",
     "output_type": "stream",
     "text": [
      "100%|██████████| 103/103 [10:50<00:00,  6.31s/it]"
     ]
    },
    {
     "name": "stdout",
     "output_type": "stream",
     "text": [
      "✅ Wallet 0xfe5a05c0f8b24fca15a7306f6a4ebb7dcf2186ac has 4 txns\n"
     ]
    },
    {
     "name": "stderr",
     "output_type": "stream",
     "text": [
      "\n"
     ]
    }
   ],
   "source": [
    "def fetch_wallet_transactions(wallet_address):\n",
    "    url = f\"{COVALENT_BASE_URL}/{CHAIN_ID}/address/{wallet_address}/transactions_v2/\"\n",
    "    params = {\n",
    "        'key': COVALENT_API_KEY,\n",
    "        'page-size': 1000\n",
    "    }\n",
    "\n",
    "    response = requests.get(url, params=params)\n",
    "    data = response.json()\n",
    "\n",
    "    if 'data' in data and 'items' in data['data']:\n",
    "        return pd.DataFrame(data['data']['items'])\n",
    "    else:\n",
    "        return pd.DataFrame()  # No transactions or error\n",
    "\n",
    "# Check first 5 wallets\n",
    "active_wallets = []\n",
    "\n",
    "for wallet in tqdm(wallet_df['wallet_id'][:104]):\n",
    "    txns_df = fetch_wallet_transactions(wallet)\n",
    "    if not txns_df.empty:\n",
    "        active_wallets.append(wallet)\n",
    "        print(f\"✅ Wallet {wallet} has {len(txns_df)} txns\")\n",
    "    else:\n",
    "        print(f\"❌ Wallet {wallet} has no data or failed\")"
   ]
  },
  {
   "cell_type": "markdown",
   "id": "c1ae0ce2",
   "metadata": {},
   "source": [
    "# Filter compound transactions"
   ]
  },
  {
   "cell_type": "code",
   "execution_count": 44,
   "id": "55042182",
   "metadata": {},
   "outputs": [],
   "source": [
    "COMPOUND_CONTRACTS = {\n",
    "    'Comptroller': '0x3d9819210a31b4961b30ef54be2aed79b9c9cd3b',\n",
    "    'cETH': '0x4ddc2d193948926d02f9b1fe9e1daa0718270ed5',\n",
    "    'cDAI': '0x5d3a536E4D6DbD6114cc1Ead35777bAB948E3643',\n",
    "    'cUSDC': '0x39aa39c021dfbae8fac545936693ac917d5e7563',\n",
    "    # Add more if needed\n",
    "}\n"
   ]
  },
  {
   "cell_type": "code",
   "execution_count": 45,
   "id": "d5c3f876",
   "metadata": {},
   "outputs": [],
   "source": [
    "def is_compound_tx(tx_row):\n",
    "    # Normalize addresses to lowercase\n",
    "    to_address = str(tx_row['to_address']).lower()\n",
    "    from_address = str(tx_row['from_address']).lower()\n",
    "    \n",
    "    for contract in COMPOUND_CONTRACTS.values():\n",
    "        if to_address == contract.lower() or from_address == contract.lower():\n",
    "            return True\n",
    "    return False"
   ]
  },
  {
   "cell_type": "code",
   "execution_count": 46,
   "id": "bcbe514d",
   "metadata": {},
   "outputs": [
    {
     "name": "stderr",
     "output_type": "stream",
     "text": [
      "  1%|          | 1/103 [00:17<30:17, 17.82s/it]"
     ]
    },
    {
     "name": "stdout",
     "output_type": "stream",
     "text": [
      "✅ Wallet 0x0039f22efb07a647557c7c5d17854cfd6d489ef3 has 15 Compound txns\n"
     ]
    },
    {
     "name": "stderr",
     "output_type": "stream",
     "text": [
      "  2%|▏         | 2/103 [00:19<14:19,  8.51s/it]"
     ]
    },
    {
     "name": "stdout",
     "output_type": "stream",
     "text": [
      "✅ Wallet 0x06b51c6882b27cb05e712185531c1f74996dd988 has 1 Compound txns\n"
     ]
    },
    {
     "name": "stderr",
     "output_type": "stream",
     "text": [
      "  3%|▎         | 3/103 [00:21<08:47,  5.28s/it]"
     ]
    },
    {
     "name": "stdout",
     "output_type": "stream",
     "text": [
      "✅ Wallet 0x0795732aacc448030ef374374eaae57d2965c16c has 1 Compound txns\n"
     ]
    },
    {
     "name": "stderr",
     "output_type": "stream",
     "text": [
      "  4%|▍         | 4/103 [00:29<10:31,  6.38s/it]"
     ]
    },
    {
     "name": "stdout",
     "output_type": "stream",
     "text": [
      "✅ Wallet 0x0aaa79f1a86bc8136cd0d1ca0d51964f4e3766f9 has 1 Compound txns\n"
     ]
    },
    {
     "name": "stderr",
     "output_type": "stream",
     "text": [
      "  5%|▍         | 5/103 [00:31<08:01,  4.91s/it]"
     ]
    },
    {
     "name": "stdout",
     "output_type": "stream",
     "text": [
      "✅ Wallet 0x0fe383e5abc200055a7f391f94a5f5d1f844b9ae has 1 Compound txns\n"
     ]
    },
    {
     "name": "stderr",
     "output_type": "stream",
     "text": [
      "  6%|▌         | 6/103 [00:34<06:46,  4.19s/it]"
     ]
    },
    {
     "name": "stdout",
     "output_type": "stream",
     "text": [
      "✅ Wallet 0x104ae61d8d487ad689969a17807ddc338b445416 has 1 Compound txns\n"
     ]
    },
    {
     "name": "stderr",
     "output_type": "stream",
     "text": [
      "  7%|▋         | 7/103 [00:37<06:01,  3.77s/it]"
     ]
    },
    {
     "name": "stdout",
     "output_type": "stream",
     "text": [
      "✅ Wallet 0x111c7208a7e2af345d36b6d4aace8740d61a3078 has 2 Compound txns\n"
     ]
    },
    {
     "name": "stderr",
     "output_type": "stream",
     "text": [
      "  8%|▊         | 8/103 [00:38<04:40,  2.95s/it]"
     ]
    },
    {
     "name": "stdout",
     "output_type": "stream",
     "text": [
      "✅ Wallet 0x124853fecb522c57d9bd5c21231058696ca6d596 has 3 Compound txns\n"
     ]
    },
    {
     "name": "stderr",
     "output_type": "stream",
     "text": [
      "  9%|▊         | 9/103 [00:41<04:30,  2.88s/it]"
     ]
    },
    {
     "name": "stdout",
     "output_type": "stream",
     "text": [
      "✅ Wallet 0x13b1c8b0e696aff8b4fee742119b549b605f3cbc has 1 Compound txns\n"
     ]
    },
    {
     "name": "stderr",
     "output_type": "stream",
     "text": [
      " 10%|▉         | 10/103 [00:45<04:54,  3.16s/it]"
     ]
    },
    {
     "name": "stdout",
     "output_type": "stream",
     "text": [
      "❌ Wallet 0x1656f1886c5ab634ac19568cd571bc72f385fdf7 has no Compound txns\n"
     ]
    },
    {
     "name": "stderr",
     "output_type": "stream",
     "text": [
      " 11%|█         | 11/103 [00:48<04:58,  3.25s/it]"
     ]
    },
    {
     "name": "stdout",
     "output_type": "stream",
     "text": [
      "❌ Wallet 0x1724e16cb8d0e2aa4d08035bc6b5c56b680a3b22 has no Compound txns\n"
     ]
    },
    {
     "name": "stderr",
     "output_type": "stream",
     "text": [
      " 12%|█▏        | 12/103 [00:53<05:57,  3.93s/it]"
     ]
    },
    {
     "name": "stdout",
     "output_type": "stream",
     "text": [
      "✅ Wallet 0x19df3e87f73c4aaf4809295561465b993e102668 has 1 Compound txns\n"
     ]
    },
    {
     "name": "stderr",
     "output_type": "stream",
     "text": [
      " 13%|█▎        | 13/103 [00:56<05:11,  3.47s/it]"
     ]
    },
    {
     "name": "stdout",
     "output_type": "stream",
     "text": [
      "✅ Wallet 0x1ab2ccad4fc97c9968ea87d4435326715be32872 has 1 Compound txns\n"
     ]
    },
    {
     "name": "stderr",
     "output_type": "stream",
     "text": [
      " 14%|█▎        | 14/103 [01:00<05:23,  3.63s/it]"
     ]
    },
    {
     "name": "stdout",
     "output_type": "stream",
     "text": [
      "✅ Wallet 0x1c1b30ca93ef57452d53885d97a74f61daf2bf4f has 10 Compound txns\n"
     ]
    },
    {
     "name": "stderr",
     "output_type": "stream",
     "text": [
      " 15%|█▍        | 15/103 [01:03<04:58,  3.39s/it]"
     ]
    },
    {
     "name": "stdout",
     "output_type": "stream",
     "text": [
      "✅ Wallet 0x1e43dacdcf863676a6bec8f7d6896d6252fac669 has 1 Compound txns\n"
     ]
    },
    {
     "name": "stderr",
     "output_type": "stream",
     "text": [
      " 16%|█▌        | 16/103 [01:09<06:06,  4.21s/it]"
     ]
    },
    {
     "name": "stdout",
     "output_type": "stream",
     "text": [
      "❌ Wallet 0x22d7510588d90ed5a87e0f838391aaafa707c34b has no Compound txns\n"
     ]
    },
    {
     "name": "stderr",
     "output_type": "stream",
     "text": [
      " 17%|█▋        | 17/103 [01:11<05:05,  3.55s/it]"
     ]
    },
    {
     "name": "stdout",
     "output_type": "stream",
     "text": [
      "✅ Wallet 0x24b3460622d835c56d9a4fe352966b9bdc6c20af has 1 Compound txns\n"
     ]
    },
    {
     "name": "stderr",
     "output_type": "stream",
     "text": [
      " 17%|█▋        | 18/103 [01:16<05:40,  4.01s/it]"
     ]
    },
    {
     "name": "stdout",
     "output_type": "stream",
     "text": [
      "✅ Wallet 0x26750f1f4277221bdb5f6991473c6ece8c821f9d has 1 Compound txns\n"
     ]
    },
    {
     "name": "stderr",
     "output_type": "stream",
     "text": [
      " 18%|█▊        | 19/103 [01:18<04:44,  3.39s/it]"
     ]
    },
    {
     "name": "stdout",
     "output_type": "stream",
     "text": [
      "✅ Wallet 0x27f72a000d8e9f324583f3a3491ea66998275b28 has 1 Compound txns\n"
     ]
    },
    {
     "name": "stderr",
     "output_type": "stream",
     "text": [
      " 19%|█▉        | 20/103 [01:20<04:14,  3.07s/it]"
     ]
    },
    {
     "name": "stdout",
     "output_type": "stream",
     "text": [
      "✅ Wallet 0x2844658bf341db96aa247259824f42025e3bcec2 has 1 Compound txns\n"
     ]
    },
    {
     "name": "stderr",
     "output_type": "stream",
     "text": [
      " 20%|██        | 21/103 [01:22<03:37,  2.65s/it]"
     ]
    },
    {
     "name": "stdout",
     "output_type": "stream",
     "text": [
      "✅ Wallet 0x2a2fde3e1beb508fcf7c137a1d5965f13a17825e has 1 Compound txns\n"
     ]
    },
    {
     "name": "stderr",
     "output_type": "stream",
     "text": [
      " 21%|██▏       | 22/103 [01:26<04:08,  3.07s/it]"
     ]
    },
    {
     "name": "stdout",
     "output_type": "stream",
     "text": [
      "✅ Wallet 0x330513970efd9e8dd606275fb4c50378989b3204 has 10 Compound txns\n"
     ]
    },
    {
     "name": "stderr",
     "output_type": "stream",
     "text": [
      " 22%|██▏       | 23/103 [01:30<04:30,  3.39s/it]"
     ]
    },
    {
     "name": "stdout",
     "output_type": "stream",
     "text": [
      "✅ Wallet 0x3361bea43c2f5f963f81ac70f64e6fba1f1d2a97 has 2 Compound txns\n"
     ]
    },
    {
     "name": "stderr",
     "output_type": "stream",
     "text": [
      " 23%|██▎       | 24/103 [01:32<03:48,  2.90s/it]"
     ]
    },
    {
     "name": "stdout",
     "output_type": "stream",
     "text": [
      "✅ Wallet 0x3867d222ba91236ad4d12c31056626f9e798629c has 1 Compound txns\n"
     ]
    },
    {
     "name": "stderr",
     "output_type": "stream",
     "text": [
      " 24%|██▍       | 25/103 [01:34<03:21,  2.58s/it]"
     ]
    },
    {
     "name": "stdout",
     "output_type": "stream",
     "text": [
      "✅ Wallet 0x3a44be4581137019f83021eeee72b7dc57756069 has 1 Compound txns\n"
     ]
    },
    {
     "name": "stderr",
     "output_type": "stream",
     "text": [
      " 25%|██▌       | 26/103 [01:36<03:06,  2.42s/it]"
     ]
    },
    {
     "name": "stdout",
     "output_type": "stream",
     "text": [
      "✅ Wallet 0x3e69ad05716bdc834db72c4d6d44439a7c8a902b has 1 Compound txns\n"
     ]
    },
    {
     "name": "stderr",
     "output_type": "stream",
     "text": [
      " 26%|██▌       | 27/103 [01:42<04:31,  3.57s/it]"
     ]
    },
    {
     "name": "stdout",
     "output_type": "stream",
     "text": [
      "✅ Wallet 0x427f2ac5fdf4245e027d767e7c3ac272a1f40a65 has 44 Compound txns\n"
     ]
    },
    {
     "name": "stderr",
     "output_type": "stream",
     "text": [
      " 27%|██▋       | 28/103 [01:47<04:51,  3.89s/it]"
     ]
    },
    {
     "name": "stdout",
     "output_type": "stream",
     "text": [
      "✅ Wallet 0x4814be124d7fe3b240eb46061f7ddfab468fe122 has 52 Compound txns\n"
     ]
    },
    {
     "name": "stderr",
     "output_type": "stream",
     "text": [
      " 28%|██▊       | 29/103 [01:52<05:25,  4.40s/it]"
     ]
    },
    {
     "name": "stdout",
     "output_type": "stream",
     "text": [
      "✅ Wallet 0x4839e666e2baf12a51bf004392b35972eeddeabf has 5 Compound txns\n"
     ]
    },
    {
     "name": "stderr",
     "output_type": "stream",
     "text": [
      " 29%|██▉       | 30/103 [01:54<04:18,  3.54s/it]"
     ]
    },
    {
     "name": "stdout",
     "output_type": "stream",
     "text": [
      "✅ Wallet 0x4c4d05fe859279c91b074429b5fc451182cec745 has 1 Compound txns\n"
     ]
    },
    {
     "name": "stderr",
     "output_type": "stream",
     "text": [
      " 30%|███       | 31/103 [01:58<04:37,  3.85s/it]"
     ]
    },
    {
     "name": "stdout",
     "output_type": "stream",
     "text": [
      "✅ Wallet 0x4d997c89bc659a3e8452038a8101161e7e7e53a7 has 3 Compound txns\n"
     ]
    },
    {
     "name": "stderr",
     "output_type": "stream",
     "text": [
      " 31%|███       | 32/103 [02:00<03:53,  3.30s/it]"
     ]
    },
    {
     "name": "stdout",
     "output_type": "stream",
     "text": [
      "✅ Wallet 0x4db0a72edb5ea6c55df929f76e7d5bb14e389860 has 1 Compound txns\n"
     ]
    },
    {
     "name": "stderr",
     "output_type": "stream",
     "text": [
      " 32%|███▏      | 33/103 [02:02<03:21,  2.88s/it]"
     ]
    },
    {
     "name": "stdout",
     "output_type": "stream",
     "text": [
      "✅ Wallet 0x4e61251336c32e4fe6bfd5fab014846599321389 has 1 Compound txns\n"
     ]
    },
    {
     "name": "stderr",
     "output_type": "stream",
     "text": [
      " 33%|███▎      | 34/103 [02:05<03:10,  2.76s/it]"
     ]
    },
    {
     "name": "stdout",
     "output_type": "stream",
     "text": [
      "✅ Wallet 0x4e6e724f4163b24ffc7ffe662b5f6815b18b4210 has 1 Compound txns\n"
     ]
    },
    {
     "name": "stderr",
     "output_type": "stream",
     "text": [
      " 34%|███▍      | 35/103 [02:07<02:53,  2.55s/it]"
     ]
    },
    {
     "name": "stdout",
     "output_type": "stream",
     "text": [
      "✅ Wallet 0x507b6c0d950702f066a9a1bd5e85206f87b065ba has 3 Compound txns\n"
     ]
    },
    {
     "name": "stderr",
     "output_type": "stream",
     "text": [
      " 35%|███▍      | 36/103 [02:08<02:34,  2.30s/it]"
     ]
    },
    {
     "name": "stdout",
     "output_type": "stream",
     "text": [
      "❌ Wallet 0x54e19653be9d4143b08994906be0e27555e8834d has no Compound txns\n"
     ]
    },
    {
     "name": "stderr",
     "output_type": "stream",
     "text": [
      " 36%|███▌      | 37/103 [02:10<02:12,  2.01s/it]"
     ]
    },
    {
     "name": "stdout",
     "output_type": "stream",
     "text": [
      "✅ Wallet 0x56ba823641bfc317afc8459bf27feed6eb9ff59f has 1 Compound txns\n"
     ]
    },
    {
     "name": "stderr",
     "output_type": "stream",
     "text": [
      " 37%|███▋      | 38/103 [02:19<04:32,  4.19s/it]"
     ]
    },
    {
     "name": "stdout",
     "output_type": "stream",
     "text": [
      "✅ Wallet 0x56cc2bffcb3f86a30c492f9d1a671a1f744d1d2f has 1 Compound txns\n"
     ]
    },
    {
     "name": "stderr",
     "output_type": "stream",
     "text": [
      " 38%|███▊      | 39/103 [02:22<04:07,  3.87s/it]"
     ]
    },
    {
     "name": "stdout",
     "output_type": "stream",
     "text": [
      "✅ Wallet 0x578cea5f899b0dfbf05c7fbcfda1a644b2a47787 has 1 Compound txns\n"
     ]
    },
    {
     "name": "stderr",
     "output_type": "stream",
     "text": [
      " 39%|███▉      | 40/103 [02:24<03:28,  3.31s/it]"
     ]
    },
    {
     "name": "stdout",
     "output_type": "stream",
     "text": [
      "✅ Wallet 0x58c2a9099a03750e9842d3e9a7780cdd6aa70b86 has 1 Compound txns\n"
     ]
    },
    {
     "name": "stderr",
     "output_type": "stream",
     "text": [
      " 40%|███▉      | 41/103 [02:28<03:43,  3.61s/it]"
     ]
    },
    {
     "name": "stdout",
     "output_type": "stream",
     "text": [
      "✅ Wallet 0x58d68d4bcf9725e40353379cec92b90332561683 has 5 Compound txns\n"
     ]
    },
    {
     "name": "stderr",
     "output_type": "stream",
     "text": [
      " 41%|████      | 42/103 [02:32<03:31,  3.46s/it]"
     ]
    },
    {
     "name": "stdout",
     "output_type": "stream",
     "text": [
      "✅ Wallet 0x5e324b4a564512ea7c93088dba2f8c1bf046a3eb has 1 Compound txns\n"
     ]
    },
    {
     "name": "stderr",
     "output_type": "stream",
     "text": [
      " 42%|████▏     | 43/103 [02:40<05:00,  5.01s/it]"
     ]
    },
    {
     "name": "stdout",
     "output_type": "stream",
     "text": [
      "✅ Wallet 0x612a3500559be7be7703de6dc397afb541a16f7f has 8 Compound txns\n"
     ]
    },
    {
     "name": "stderr",
     "output_type": "stream",
     "text": [
      " 43%|████▎     | 44/103 [02:49<06:04,  6.18s/it]"
     ]
    },
    {
     "name": "stdout",
     "output_type": "stream",
     "text": [
      "✅ Wallet 0x623af911f493747c216ad389c7805a37019c662d has 2 Compound txns\n"
     ]
    },
    {
     "name": "stderr",
     "output_type": "stream",
     "text": [
      " 44%|████▎     | 45/103 [02:51<04:42,  4.86s/it]"
     ]
    },
    {
     "name": "stdout",
     "output_type": "stream",
     "text": [
      "✅ Wallet 0x6a2752a534faacaaa153bffbb973dd84e0e5497b has 1 Compound txns\n"
     ]
    },
    {
     "name": "stderr",
     "output_type": "stream",
     "text": [
      " 45%|████▍     | 46/103 [02:52<03:40,  3.87s/it]"
     ]
    },
    {
     "name": "stdout",
     "output_type": "stream",
     "text": [
      "✅ Wallet 0x6d69ca3711e504658977367e13c300ab198379f1 has 1 Compound txns\n"
     ]
    },
    {
     "name": "stderr",
     "output_type": "stream",
     "text": [
      " 46%|████▌     | 47/103 [02:54<02:52,  3.08s/it]"
     ]
    },
    {
     "name": "stdout",
     "output_type": "stream",
     "text": [
      "✅ Wallet 0x6e355417f7f56e7927d1cd971f0b5a1e6d538487 has 2 Compound txns\n"
     ]
    },
    {
     "name": "stderr",
     "output_type": "stream",
     "text": [
      " 47%|████▋     | 48/103 [02:55<02:27,  2.68s/it]"
     ]
    },
    {
     "name": "stdout",
     "output_type": "stream",
     "text": [
      "✅ Wallet 0x70c1864282599a762c674dd9d567b37e13bce755 has 1 Compound txns\n"
     ]
    },
    {
     "name": "stderr",
     "output_type": "stream",
     "text": [
      " 48%|████▊     | 49/103 [03:01<03:13,  3.58s/it]"
     ]
    },
    {
     "name": "stdout",
     "output_type": "stream",
     "text": [
      "✅ Wallet 0x70d8e4ab175dfe0eab4e9a7f33e0a2d19f44001e has 38 Compound txns\n"
     ]
    },
    {
     "name": "stderr",
     "output_type": "stream",
     "text": [
      " 49%|████▊     | 50/103 [03:03<02:44,  3.11s/it]"
     ]
    },
    {
     "name": "stdout",
     "output_type": "stream",
     "text": [
      "✅ Wallet 0x7399dbeebe2f88bc6ac4e3fd7ddb836a4bce322f has 1 Compound txns\n"
     ]
    },
    {
     "name": "stderr",
     "output_type": "stream",
     "text": [
      " 50%|████▉     | 51/103 [03:05<02:24,  2.79s/it]"
     ]
    },
    {
     "name": "stdout",
     "output_type": "stream",
     "text": [
      "✅ Wallet 0x767055590c73b7d2aaa6219da13807c493f91a20 has 1 Compound txns\n"
     ]
    },
    {
     "name": "stderr",
     "output_type": "stream",
     "text": [
      " 50%|█████     | 52/103 [03:16<04:26,  5.22s/it]"
     ]
    },
    {
     "name": "stdout",
     "output_type": "stream",
     "text": [
      "❌ Wallet 0x7851bdfb64bbecfb40c030d722a1f147dff5db6a has no Compound txns\n"
     ]
    },
    {
     "name": "stderr",
     "output_type": "stream",
     "text": [
      " 51%|█████▏    | 53/103 [03:19<03:45,  4.51s/it]"
     ]
    },
    {
     "name": "stdout",
     "output_type": "stream",
     "text": [
      "✅ Wallet 0x7b4636320daa0bc055368a4f9b9d01bd8ac51877 has 1 Compound txns\n"
     ]
    },
    {
     "name": "stderr",
     "output_type": "stream",
     "text": [
      " 52%|█████▏    | 54/103 [03:29<05:00,  6.13s/it]"
     ]
    },
    {
     "name": "stdout",
     "output_type": "stream",
     "text": [
      "✅ Wallet 0x7b57dbe2f2e4912a29754ff3e412ed9507fd8957 has 3 Compound txns\n"
     ]
    },
    {
     "name": "stderr",
     "output_type": "stream",
     "text": [
      " 53%|█████▎    | 55/103 [03:31<03:53,  4.87s/it]"
     ]
    },
    {
     "name": "stdout",
     "output_type": "stream",
     "text": [
      "✅ Wallet 0x7be3dfb5b6fcbae542ea85e76cc19916a20f6c1e has 2 Compound txns\n"
     ]
    },
    {
     "name": "stderr",
     "output_type": "stream",
     "text": [
      " 54%|█████▍    | 56/103 [03:33<03:09,  4.02s/it]"
     ]
    },
    {
     "name": "stdout",
     "output_type": "stream",
     "text": [
      "✅ Wallet 0x7de76a449cf60ea3e111ff18b28e516d89532152 has 1 Compound txns\n"
     ]
    },
    {
     "name": "stderr",
     "output_type": "stream",
     "text": [
      " 55%|█████▌    | 57/103 [03:38<03:24,  4.44s/it]"
     ]
    },
    {
     "name": "stdout",
     "output_type": "stream",
     "text": [
      "✅ Wallet 0x7e3eab408b9c76a13305ef34606f17c16f7b33cc has 3 Compound txns\n"
     ]
    },
    {
     "name": "stderr",
     "output_type": "stream",
     "text": [
      " 56%|█████▋    | 58/103 [03:40<02:40,  3.58s/it]"
     ]
    },
    {
     "name": "stdout",
     "output_type": "stream",
     "text": [
      "✅ Wallet 0x7f5e6a28afc9fb0aaf4259d4ff69991b88ebea47 has 1 Compound txns\n"
     ]
    },
    {
     "name": "stderr",
     "output_type": "stream",
     "text": [
      " 57%|█████▋    | 59/103 [03:45<03:00,  4.11s/it]"
     ]
    },
    {
     "name": "stdout",
     "output_type": "stream",
     "text": [
      "✅ Wallet 0x83ea74c67d393c6894c34c464657bda2183a2f1a has 1 Compound txns\n"
     ]
    },
    {
     "name": "stderr",
     "output_type": "stream",
     "text": [
      " 58%|█████▊    | 60/103 [03:57<04:36,  6.43s/it]"
     ]
    },
    {
     "name": "stdout",
     "output_type": "stream",
     "text": [
      "✅ Wallet 0x8441fecef5cc6f697be2c4fc4a36feacede8df67 has 2 Compound txns\n"
     ]
    },
    {
     "name": "stderr",
     "output_type": "stream",
     "text": [
      " 59%|█████▉    | 61/103 [03:59<03:29,  4.99s/it]"
     ]
    },
    {
     "name": "stdout",
     "output_type": "stream",
     "text": [
      "✅ Wallet 0x854a873b8f9bfac36a5eb9c648e285a095a7478d has 1 Compound txns\n"
     ]
    },
    {
     "name": "stderr",
     "output_type": "stream",
     "text": [
      " 60%|██████    | 62/103 [04:00<02:36,  3.83s/it]"
     ]
    },
    {
     "name": "stdout",
     "output_type": "stream",
     "text": [
      "✅ Wallet 0x8587d9f794f06d976c2ec1cfd523983b856f5ca9 has 1 Compound txns\n"
     ]
    },
    {
     "name": "stderr",
     "output_type": "stream",
     "text": [
      " 61%|██████    | 63/103 [04:01<02:05,  3.14s/it]"
     ]
    },
    {
     "name": "stdout",
     "output_type": "stream",
     "text": [
      "✅ Wallet 0x880a0af12da55df1197f41697c1a1b61670ed410 has 4 Compound txns\n"
     ]
    },
    {
     "name": "stderr",
     "output_type": "stream",
     "text": [
      " 62%|██████▏   | 64/103 [04:03<01:40,  2.58s/it]"
     ]
    },
    {
     "name": "stdout",
     "output_type": "stream",
     "text": [
      "✅ Wallet 0x8aaece100580b749a20f8ce30338c4e0770b65ed has 1 Compound txns\n"
     ]
    },
    {
     "name": "stderr",
     "output_type": "stream",
     "text": [
      " 63%|██████▎   | 65/103 [04:08<02:15,  3.57s/it]"
     ]
    },
    {
     "name": "stdout",
     "output_type": "stream",
     "text": [
      "✅ Wallet 0x8be38ea2b22b706aef313c2de81f7d179024dd30 has 19 Compound txns\n"
     ]
    },
    {
     "name": "stderr",
     "output_type": "stream",
     "text": [
      " 64%|██████▍   | 66/103 [04:11<01:55,  3.13s/it]"
     ]
    },
    {
     "name": "stdout",
     "output_type": "stream",
     "text": [
      "❌ Wallet 0x8d900f213db5205c529aaba5d10e71a0ed2646db has no Compound txns\n"
     ]
    },
    {
     "name": "stderr",
     "output_type": "stream",
     "text": [
      " 65%|██████▌   | 67/103 [04:12<01:32,  2.56s/it]"
     ]
    },
    {
     "name": "stdout",
     "output_type": "stream",
     "text": [
      "✅ Wallet 0x91919344c1dad09772d19ad8ad4f1bcd29c51f27 has 1 Compound txns\n"
     ]
    },
    {
     "name": "stderr",
     "output_type": "stream",
     "text": [
      " 66%|██████▌   | 68/103 [04:13<01:15,  2.15s/it]"
     ]
    },
    {
     "name": "stdout",
     "output_type": "stream",
     "text": [
      "✅ Wallet 0x93f0891bf71d8abed78e0de0885bd26355bb8b1d has 2 Compound txns\n"
     ]
    },
    {
     "name": "stderr",
     "output_type": "stream",
     "text": [
      " 67%|██████▋   | 69/103 [04:18<01:43,  3.05s/it]"
     ]
    },
    {
     "name": "stdout",
     "output_type": "stream",
     "text": [
      "✅ Wallet 0x96479b087cb8f236a5e2dcbfc50ce63b2f421da6 has 4 Compound txns\n"
     ]
    },
    {
     "name": "stderr",
     "output_type": "stream",
     "text": [
      " 68%|██████▊   | 70/103 [04:20<01:30,  2.74s/it]"
     ]
    },
    {
     "name": "stdout",
     "output_type": "stream",
     "text": [
      "✅ Wallet 0x96bb4447a02b95f1d1e85374cffd565eb22ed2f8 has 1 Compound txns\n"
     ]
    },
    {
     "name": "stderr",
     "output_type": "stream",
     "text": [
      " 69%|██████▉   | 71/103 [04:26<01:54,  3.59s/it]"
     ]
    },
    {
     "name": "stdout",
     "output_type": "stream",
     "text": [
      "✅ Wallet 0x9a363adc5d382c04d36b09158286328f75672098 has 1 Compound txns\n"
     ]
    },
    {
     "name": "stderr",
     "output_type": "stream",
     "text": [
      " 70%|██████▉   | 72/103 [04:27<01:30,  2.93s/it]"
     ]
    },
    {
     "name": "stdout",
     "output_type": "stream",
     "text": [
      "✅ Wallet 0x9ad1331c5b6c5a641acffb32719c66a80c6e1a17 has 2 Compound txns\n"
     ]
    },
    {
     "name": "stderr",
     "output_type": "stream",
     "text": [
      " 71%|███████   | 73/103 [04:33<01:56,  3.90s/it]"
     ]
    },
    {
     "name": "stdout",
     "output_type": "stream",
     "text": [
      "✅ Wallet 0x9ba0d85f71e145ccf15225e59631e5a883d5d74a has 3 Compound txns\n"
     ]
    },
    {
     "name": "stderr",
     "output_type": "stream",
     "text": [
      " 72%|███████▏  | 74/103 [04:40<02:13,  4.61s/it]"
     ]
    },
    {
     "name": "stdout",
     "output_type": "stream",
     "text": [
      "✅ Wallet 0x9e6ec4e98793970a1307262ba68d37594e58cd78 has 1 Compound txns\n"
     ]
    },
    {
     "name": "stderr",
     "output_type": "stream",
     "text": [
      " 73%|███████▎  | 75/103 [04:48<02:38,  5.66s/it]"
     ]
    },
    {
     "name": "stdout",
     "output_type": "stream",
     "text": [
      "❌ Wallet 0xa7e94d933eb0c439dda357f61244a485246e97b8 has no Compound txns\n"
     ]
    },
    {
     "name": "stderr",
     "output_type": "stream",
     "text": [
      " 74%|███████▍  | 76/103 [05:28<07:13, 16.06s/it]"
     ]
    },
    {
     "name": "stdout",
     "output_type": "stream",
     "text": [
      "✅ Wallet 0xa7f3c74f0255796fd5d3ddcf88db769f7a6bf46a has 9 Compound txns\n"
     ]
    },
    {
     "name": "stderr",
     "output_type": "stream",
     "text": [
      " 75%|███████▍  | 77/103 [05:33<05:34, 12.88s/it]"
     ]
    },
    {
     "name": "stdout",
     "output_type": "stream",
     "text": [
      "✅ Wallet 0xa98dc64bb42575efec7d1e4560c029231ce5da51 has 1 Compound txns\n"
     ]
    },
    {
     "name": "stderr",
     "output_type": "stream",
     "text": [
      " 76%|███████▌  | 78/103 [05:35<03:59,  9.57s/it]"
     ]
    },
    {
     "name": "stdout",
     "output_type": "stream",
     "text": [
      "✅ Wallet 0xb271ff7090b39028eb6e711c3f89a3453d5861ee has 3 Compound txns\n"
     ]
    },
    {
     "name": "stderr",
     "output_type": "stream",
     "text": [
      " 77%|███████▋  | 79/103 [05:38<03:00,  7.50s/it]"
     ]
    },
    {
     "name": "stdout",
     "output_type": "stream",
     "text": [
      "✅ Wallet 0xb475576594ae44e1f75f534f993cbb7673e4c8b6 has 1 Compound txns\n"
     ]
    },
    {
     "name": "stderr",
     "output_type": "stream",
     "text": [
      " 78%|███████▊  | 80/103 [05:39<02:10,  5.68s/it]"
     ]
    },
    {
     "name": "stdout",
     "output_type": "stream",
     "text": [
      "✅ Wallet 0xb57297c5d02def954794e593db93d0a302e43e5c has 2 Compound txns\n"
     ]
    },
    {
     "name": "stderr",
     "output_type": "stream",
     "text": [
      " 79%|███████▊  | 81/103 [06:15<05:23, 14.71s/it]"
     ]
    },
    {
     "name": "stdout",
     "output_type": "stream",
     "text": [
      "✅ Wallet 0xbd4a00764217c13a246f86db58d74541a0c3972a has 5 Compound txns\n"
     ]
    },
    {
     "name": "stderr",
     "output_type": "stream",
     "text": [
      " 80%|███████▉  | 82/103 [06:22<04:16, 12.20s/it]"
     ]
    },
    {
     "name": "stdout",
     "output_type": "stream",
     "text": [
      "✅ Wallet 0xc179d55f7e00e789915760f7d260a1bf6285278b has 2 Compound txns\n"
     ]
    },
    {
     "name": "stderr",
     "output_type": "stream",
     "text": [
      " 81%|████████  | 83/103 [06:29<03:36, 10.82s/it]"
     ]
    },
    {
     "name": "stdout",
     "output_type": "stream",
     "text": [
      "✅ Wallet 0xc22b8e78394ce52e0034609a67ae3c959daa84bc has 3 Compound txns\n"
     ]
    },
    {
     "name": "stderr",
     "output_type": "stream",
     "text": [
      " 82%|████████▏ | 84/103 [06:36<03:01,  9.57s/it]"
     ]
    },
    {
     "name": "stdout",
     "output_type": "stream",
     "text": [
      "✅ Wallet 0xcbbd9fe837a14258286bbf2e182cbc4e4518c5a3 has 24 Compound txns\n"
     ]
    },
    {
     "name": "stderr",
     "output_type": "stream",
     "text": [
      " 83%|████████▎ | 85/103 [06:38<02:13,  7.42s/it]"
     ]
    },
    {
     "name": "stdout",
     "output_type": "stream",
     "text": [
      "✅ Wallet 0xcecf5163bb057c1aff4963d9b9a7d2f0bf591710 has 2 Compound txns\n"
     ]
    },
    {
     "name": "stderr",
     "output_type": "stream",
     "text": [
      " 83%|████████▎ | 86/103 [06:39<01:34,  5.56s/it]"
     ]
    },
    {
     "name": "stdout",
     "output_type": "stream",
     "text": [
      "✅ Wallet 0xcf0033bf27804640e5339e06443e208db5870dd2 has 1 Compound txns\n"
     ]
    },
    {
     "name": "stderr",
     "output_type": "stream",
     "text": [
      " 84%|████████▍ | 87/103 [06:41<01:10,  4.38s/it]"
     ]
    },
    {
     "name": "stdout",
     "output_type": "stream",
     "text": [
      "✅ Wallet 0xd0df53e296c1e3115fccc3d7cdf4ba495e593b56 has 1 Compound txns\n"
     ]
    },
    {
     "name": "stderr",
     "output_type": "stream",
     "text": [
      " 85%|████████▌ | 88/103 [06:42<00:52,  3.50s/it]"
     ]
    },
    {
     "name": "stdout",
     "output_type": "stream",
     "text": [
      "✅ Wallet 0xd1a3888fd8f490367c6104e10b4154427c02dd9c has 1 Compound txns\n"
     ]
    },
    {
     "name": "stderr",
     "output_type": "stream",
     "text": [
      " 86%|████████▋ | 89/103 [06:44<00:42,  3.01s/it]"
     ]
    },
    {
     "name": "stdout",
     "output_type": "stream",
     "text": [
      "✅ Wallet 0xd334d18fa6bada9a10f361bae42a019ce88a3c33 has 2 Compound txns\n"
     ]
    },
    {
     "name": "stderr",
     "output_type": "stream",
     "text": [
      " 87%|████████▋ | 90/103 [06:46<00:33,  2.59s/it]"
     ]
    },
    {
     "name": "stdout",
     "output_type": "stream",
     "text": [
      "✅ Wallet 0xd9d3930ffa343f5a0eec7606d045d0843d3a02b4 has 1 Compound txns\n"
     ]
    },
    {
     "name": "stderr",
     "output_type": "stream",
     "text": [
      " 88%|████████▊ | 91/103 [06:50<00:37,  3.15s/it]"
     ]
    },
    {
     "name": "stdout",
     "output_type": "stream",
     "text": [
      "✅ Wallet 0xdde73df7bd4d704a89ad8421402701b3a460c6e9 has 2 Compound txns\n"
     ]
    },
    {
     "name": "stderr",
     "output_type": "stream",
     "text": [
      " 89%|████████▉ | 92/103 [06:52<00:31,  2.83s/it]"
     ]
    },
    {
     "name": "stdout",
     "output_type": "stream",
     "text": [
      "✅ Wallet 0xde92d70253604fd8c5998c8ee3ed282a41b33b7f has 1 Compound txns\n"
     ]
    },
    {
     "name": "stderr",
     "output_type": "stream",
     "text": [
      " 90%|█████████ | 93/103 [06:54<00:24,  2.42s/it]"
     ]
    },
    {
     "name": "stdout",
     "output_type": "stream",
     "text": [
      "✅ Wallet 0xded1f838ae6aa5fcd0f13481b37ee88e5bdccb3d has 2 Compound txns\n"
     ]
    },
    {
     "name": "stderr",
     "output_type": "stream",
     "text": [
      " 91%|█████████▏| 94/103 [06:56<00:19,  2.21s/it]"
     ]
    },
    {
     "name": "stdout",
     "output_type": "stream",
     "text": [
      "✅ Wallet 0xebb8629e8a3ec86cf90cb7600264415640834483 has 2 Compound txns\n"
     ]
    },
    {
     "name": "stderr",
     "output_type": "stream",
     "text": [
      " 92%|█████████▏| 95/103 [06:58<00:17,  2.13s/it]"
     ]
    },
    {
     "name": "stdout",
     "output_type": "stream",
     "text": [
      "✅ Wallet 0xeded1c8c0a0c532195b8432153f3bfa81dba2a90 has 1 Compound txns\n"
     ]
    },
    {
     "name": "stderr",
     "output_type": "stream",
     "text": [
      " 93%|█████████▎| 96/103 [07:02<00:19,  2.76s/it]"
     ]
    },
    {
     "name": "stdout",
     "output_type": "stream",
     "text": [
      "✅ Wallet 0xf10fd8921019615a856c1e95c7cd3632de34edc4 has 1 Compound txns\n"
     ]
    },
    {
     "name": "stderr",
     "output_type": "stream",
     "text": [
      " 94%|█████████▍| 97/103 [07:46<01:30, 15.04s/it]"
     ]
    },
    {
     "name": "stdout",
     "output_type": "stream",
     "text": [
      "✅ Wallet 0xf340b9f2098f80b86fbc5ede586c319473aa11f3 has 15 Compound txns\n"
     ]
    },
    {
     "name": "stderr",
     "output_type": "stream",
     "text": [
      " 95%|█████████▌| 98/103 [07:48<00:56, 11.29s/it]"
     ]
    },
    {
     "name": "stdout",
     "output_type": "stream",
     "text": [
      "✅ Wallet 0xf54f36bca969800fd7d63a68029561309938c09b has 1 Compound txns\n"
     ]
    },
    {
     "name": "stderr",
     "output_type": "stream",
     "text": [
      " 96%|█████████▌| 99/103 [07:58<00:43, 10.96s/it]"
     ]
    },
    {
     "name": "stdout",
     "output_type": "stream",
     "text": [
      "❌ Wallet 0xf60304b534f74977e159b2e159e135475c245526 has no Compound txns\n"
     ]
    },
    {
     "name": "stderr",
     "output_type": "stream",
     "text": [
      " 97%|█████████▋| 100/103 [08:00<00:24,  8.16s/it]"
     ]
    },
    {
     "name": "stdout",
     "output_type": "stream",
     "text": [
      "✅ Wallet 0xf67e8e5805835465f7eba988259db882ab726800 has 1 Compound txns\n"
     ]
    },
    {
     "name": "stderr",
     "output_type": "stream",
     "text": [
      " 98%|█████████▊| 101/103 [08:07<00:15,  7.98s/it]"
     ]
    },
    {
     "name": "stdout",
     "output_type": "stream",
     "text": [
      "✅ Wallet 0xf7aa5d0752cfcd41b0a5945867d619a80c405e52 has 1 Compound txns\n"
     ]
    },
    {
     "name": "stderr",
     "output_type": "stream",
     "text": [
      " 99%|█████████▉| 102/103 [08:13<00:07,  7.39s/it]"
     ]
    },
    {
     "name": "stdout",
     "output_type": "stream",
     "text": [
      "❌ Wallet 0xf80a8b9cfff0febf49914c269fb8aead4a22f847 has no Compound txns\n"
     ]
    },
    {
     "name": "stderr",
     "output_type": "stream",
     "text": [
      "100%|██████████| 103/103 [08:16<00:00,  4.82s/it]"
     ]
    },
    {
     "name": "stdout",
     "output_type": "stream",
     "text": [
      "✅ Wallet 0xfe5a05c0f8b24fca15a7306f6a4ebb7dcf2186ac has 1 Compound txns\n"
     ]
    },
    {
     "name": "stderr",
     "output_type": "stream",
     "text": [
      "\n"
     ]
    }
   ],
   "source": [
    "compound_wallets = []\n",
    "compound_tx_map = {}\n",
    "\n",
    "for wallet in tqdm(wallet_df['wallet_id'][:104]):\n",
    "    txns_df = fetch_wallet_transactions(wallet)\n",
    "    if not txns_df.empty:\n",
    "        # Filter only Compound txns\n",
    "        compound_txs = txns_df[txns_df.apply(is_compound_tx, axis=1)]\n",
    "        \n",
    "        if not compound_txs.empty:\n",
    "            compound_wallets.append(wallet)\n",
    "            compound_tx_map[wallet] = compound_txs\n",
    "            print(f\"✅ Wallet {wallet} has {len(compound_txs)} Compound txns\")\n",
    "        else:\n",
    "            print(f\"❌ Wallet {wallet} has no Compound txns\")\n",
    "    else:\n",
    "        print(f\"❌ Wallet {wallet} has no transactions\")"
   ]
  },
  {
   "cell_type": "markdown",
   "id": "1d00bf79",
   "metadata": {},
   "source": [
    "# Feature Engineering"
   ]
  },
  {
   "cell_type": "code",
   "execution_count": 88,
   "id": "28b79d3f",
   "metadata": {},
   "outputs": [],
   "source": [
    "def extract_wallet_features(wallet, txns_df):\n",
    "    features = {\n",
    "        'wallet_id': wallet,\n",
    "        'num_compound_txns': len(txns_df),\n",
    "        'num_borrow_txns': 0,\n",
    "        'num_repay_txns': 0,\n",
    "        'num_supply_txns': 0\n",
    "    }\n",
    "\n",
    "    # Loop through each transaction and inspect its log_events\n",
    "    for _, tx in txns_df.iterrows():\n",
    "        logs = tx.get('log_events', [])\n",
    "        if not isinstance(logs, list):\n",
    "            continue\n",
    "\n",
    "        for log in logs:\n",
    "            decoded = log.get('decoded')\n",
    "            if decoded and 'name' in decoded:\n",
    "                method_name = decoded['name'].lower()\n",
    "                if 'borrow' in method_name:\n",
    "                    features['num_borrow_txns'] += 1\n",
    "                elif 'repayborrow' in method_name or 'repay' in method_name:\n",
    "                    features['num_repay_txns'] += 1\n",
    "                elif 'mint' in method_name or 'supply' in method_name:\n",
    "                    features['num_supply_txns'] += 1\n",
    "\n",
    "    return features"
   ]
  },
  {
   "cell_type": "code",
   "execution_count": 91,
   "id": "392cf3f4",
   "metadata": {},
   "outputs": [
    {
     "data": {
      "text/html": [
       "<div>\n",
       "<style scoped>\n",
       "    .dataframe tbody tr th:only-of-type {\n",
       "        vertical-align: middle;\n",
       "    }\n",
       "\n",
       "    .dataframe tbody tr th {\n",
       "        vertical-align: top;\n",
       "    }\n",
       "\n",
       "    .dataframe thead th {\n",
       "        text-align: right;\n",
       "    }\n",
       "</style>\n",
       "<table border=\"1\" class=\"dataframe\">\n",
       "  <thead>\n",
       "    <tr style=\"text-align: right;\">\n",
       "      <th></th>\n",
       "      <th>wallet_id</th>\n",
       "      <th>num_compound_txns</th>\n",
       "      <th>num_borrow_txns</th>\n",
       "      <th>num_repay_txns</th>\n",
       "      <th>num_supply_txns</th>\n",
       "    </tr>\n",
       "  </thead>\n",
       "  <tbody>\n",
       "    <tr>\n",
       "      <th>0</th>\n",
       "      <td>0x0039f22efb07a647557c7c5d17854cfd6d489ef3</td>\n",
       "      <td>15</td>\n",
       "      <td>0</td>\n",
       "      <td>0</td>\n",
       "      <td>4</td>\n",
       "    </tr>\n",
       "    <tr>\n",
       "      <th>1</th>\n",
       "      <td>0x06b51c6882b27cb05e712185531c1f74996dd988</td>\n",
       "      <td>1</td>\n",
       "      <td>0</td>\n",
       "      <td>0</td>\n",
       "      <td>1</td>\n",
       "    </tr>\n",
       "    <tr>\n",
       "      <th>2</th>\n",
       "      <td>0x0795732aacc448030ef374374eaae57d2965c16c</td>\n",
       "      <td>1</td>\n",
       "      <td>0</td>\n",
       "      <td>0</td>\n",
       "      <td>1</td>\n",
       "    </tr>\n",
       "    <tr>\n",
       "      <th>3</th>\n",
       "      <td>0x0aaa79f1a86bc8136cd0d1ca0d51964f4e3766f9</td>\n",
       "      <td>1</td>\n",
       "      <td>0</td>\n",
       "      <td>0</td>\n",
       "      <td>1</td>\n",
       "    </tr>\n",
       "    <tr>\n",
       "      <th>4</th>\n",
       "      <td>0x0fe383e5abc200055a7f391f94a5f5d1f844b9ae</td>\n",
       "      <td>1</td>\n",
       "      <td>0</td>\n",
       "      <td>0</td>\n",
       "      <td>1</td>\n",
       "    </tr>\n",
       "  </tbody>\n",
       "</table>\n",
       "</div>"
      ],
      "text/plain": [
       "                                    wallet_id  num_compound_txns  \\\n",
       "0  0x0039f22efb07a647557c7c5d17854cfd6d489ef3                 15   \n",
       "1  0x06b51c6882b27cb05e712185531c1f74996dd988                  1   \n",
       "2  0x0795732aacc448030ef374374eaae57d2965c16c                  1   \n",
       "3  0x0aaa79f1a86bc8136cd0d1ca0d51964f4e3766f9                  1   \n",
       "4  0x0fe383e5abc200055a7f391f94a5f5d1f844b9ae                  1   \n",
       "\n",
       "   num_borrow_txns  num_repay_txns  num_supply_txns  \n",
       "0                0               0                4  \n",
       "1                0               0                1  \n",
       "2                0               0                1  \n",
       "3                0               0                1  \n",
       "4                0               0                1  "
      ]
     },
     "execution_count": 91,
     "metadata": {},
     "output_type": "execute_result"
    }
   ],
   "source": [
    "feature_list = []\n",
    "\n",
    "for wallet, compound_txns in compound_tx_map.items():\n",
    "    features = extract_wallet_features(wallet, compound_txns)\n",
    "    feature_list.append(features)\n",
    "\n",
    "features_df = pd.DataFrame(feature_list)\n",
    "features_df.head()"
   ]
  },
  {
   "cell_type": "code",
   "execution_count": 85,
   "id": "b408a1e7",
   "metadata": {},
   "outputs": [
    {
     "data": {
      "text/plain": [
       "{'block_signed_at': '2021-12-15T22:38:10Z',\n",
       " 'block_height': 13812467,\n",
       " 'block_hash': '0x3a46a372bd3f7277bd2efbe5b8800cdf2170014c4d15c17df79742b479489baa',\n",
       " 'tx_hash': '0xcc49ca36e7020d58fe4195419110d8668b34216c7c0a73bbb8b0a4c08a7ae2fd',\n",
       " 'tx_offset': 79,\n",
       " 'successful': True,\n",
       " 'miner_address': '0x2a20380dca5bc24d052acfbf79ba23e988ad0050',\n",
       " 'from_address': '0x0039f22efb07a647557c7c5d17854cfd6d489ef3',\n",
       " 'from_address_label': None,\n",
       " 'to_address': '0x39aa39c021dfbae8fac545936693ac917d5e7563',\n",
       " 'to_address_label': None,\n",
       " 'value': '0',\n",
       " 'value_quote': 0.0,\n",
       " 'pretty_value_quote': '$0.00',\n",
       " 'gas_metadata': {'contract_decimals': 18,\n",
       "  'contract_name': 'Ether',\n",
       "  'contract_ticker_symbol': 'ETH',\n",
       "  'contract_address': '0xeeeeeeeeeeeeeeeeeeeeeeeeeeeeeeeeeeeeeeee',\n",
       "  'supports_erc': [],\n",
       "  'logo_url': 'https://www.datocms-assets.com/86369/1669653891-eth.svg'},\n",
       " 'gas_offered': 53369,\n",
       " 'gas_spent': 46408,\n",
       " 'gas_price': 90651229675,\n",
       " 'fees_paid': '4206942266757400',\n",
       " 'gas_quote': 16.94364485475801,\n",
       " 'pretty_gas_quote': '$16.94',\n",
       " 'gas_quote_rate': 4027.5439453125,\n",
       " 'log_events': [{'block_signed_at': '2021-12-15T22:38:10Z',\n",
       "   'block_height': 13812467,\n",
       "   'tx_offset': 79,\n",
       "   'log_offset': 137,\n",
       "   'tx_hash': '0xcc49ca36e7020d58fe4195419110d8668b34216c7c0a73bbb8b0a4c08a7ae2fd',\n",
       "   'raw_log_topics': ['0x8c5be1e5ebec7d5bd14f71427d1e84f3dd0314c0f7b2291e5b200ac8c7c3b925',\n",
       "    '0x0000000000000000000000000039f22efb07a647557c7c5d17854cfd6d489ef3',\n",
       "    '0x0000000000000000000000001111111254fb6c44bac0bed2854e76f90643097d'],\n",
       "   'sender_contract_decimals': 8,\n",
       "   'sender_name': 'Compound USD Coin',\n",
       "   'sender_contract_ticker_symbol': 'cUSDC',\n",
       "   'sender_address': '0x39aa39c021dfbae8fac545936693ac917d5e7563',\n",
       "   'sender_address_label': None,\n",
       "   'sender_logo_url': 'https://logos.covalenthq.com/tokens/1/0x39aa39c021dfbae8fac545936693ac917d5e7563.png',\n",
       "   'supports_erc': ['erc20'],\n",
       "   'sender_factory_address': None,\n",
       "   'raw_log_data': '0xffffffffffffffffffffffffffffffffffffffffffffffffffffffffffffffff',\n",
       "   'decoded': {'name': 'Approval',\n",
       "    'signature': 'Approval(indexed address owner, indexed address spender, uint256 value)',\n",
       "    'params': [{'name': 'owner',\n",
       "      'type': 'address',\n",
       "      'indexed': True,\n",
       "      'decoded': True,\n",
       "      'value': '0x0039f22efb07a647557c7c5d17854cfd6d489ef3'},\n",
       "     {'name': 'spender',\n",
       "      'type': 'address',\n",
       "      'indexed': True,\n",
       "      'decoded': True,\n",
       "      'value': '0x1111111254fb6c44bac0bed2854e76f90643097d'},\n",
       "     {'name': 'value',\n",
       "      'type': 'uint256',\n",
       "      'indexed': False,\n",
       "      'decoded': True,\n",
       "      'value': '115792089237316195423570985008687907853269984665640564039457584007913129639935'}]}}]}"
      ]
     },
     "execution_count": 85,
     "metadata": {},
     "output_type": "execute_result"
    }
   ],
   "source": [
    "wallet_sample = list(compound_tx_map.keys())[0]\n",
    "compound_txns = compound_tx_map[wallet_sample]\n",
    "compound_txns.columns\n",
    "compound_txns.iloc[0].to_dict()"
   ]
  },
  {
   "cell_type": "code",
   "execution_count": 98,
   "id": "2b4f7473",
   "metadata": {},
   "outputs": [],
   "source": [
    "def extract_wallet_features(txns_df):\n",
    "    if txns_df.empty:\n",
    "        return {}\n",
    "\n",
    "    txns_df['block_signed_at'] = pd.to_datetime(txns_df['block_signed_at'], errors='coerce')\n",
    "    \n",
    "    features = {\n",
    "        'total_compound_tx_count': len(txns_df),\n",
    "        'num_unique_tokens_interacted': txns_df['to_address'].nunique(),\n",
    "        'total_gas_spent_usd': txns_df['gas_quote'].sum(),\n",
    "        'avg_tx_fee_usd': txns_df['gas_quote'].mean(),\n",
    "        'num_failed_txns': (~txns_df['successful']).sum(),\n",
    "        'interaction_duration_days': (\n",
    "            (txns_df['block_signed_at'].max() - txns_df['block_signed_at'].min()).days + 1\n",
    "            if txns_df['block_signed_at'].notna().any() else 0\n",
    "        )\n",
    "    }\n",
    "\n",
    "    # Fix: safe parsing of log_events\n",
    "    approval_count = 0\n",
    "    for log_events in txns_df['log_events']:\n",
    "        if isinstance(log_events, list):\n",
    "            for event in log_events:\n",
    "                if isinstance(event, dict):\n",
    "                    decoded = event.get(\"decoded\")\n",
    "                    if isinstance(decoded, dict) and decoded.get(\"name\") == \"Approval\":\n",
    "                        approval_count += 1\n",
    "\n",
    "    features['num_approval_events'] = approval_count\n",
    "    \n",
    "    return features\n"
   ]
  },
  {
   "cell_type": "code",
   "execution_count": 99,
   "id": "6bf31833",
   "metadata": {},
   "outputs": [
    {
     "name": "stderr",
     "output_type": "stream",
     "text": [
      "  0%|          | 0/94 [00:00<?, ?it/s]"
     ]
    },
    {
     "name": "stderr",
     "output_type": "stream",
     "text": [
      "100%|██████████| 94/94 [00:00<00:00, 285.01it/s]\n"
     ]
    }
   ],
   "source": [
    "wallet_features = []\n",
    "\n",
    "for wallet, txns_df in tqdm(compound_tx_map.items()):\n",
    "    features = extract_wallet_features(txns_df)\n",
    "    features['wallet_id'] = wallet\n",
    "    wallet_features.append(features)\n",
    "\n",
    "features_df = pd.DataFrame(wallet_features)"
   ]
  },
  {
   "cell_type": "code",
   "execution_count": 141,
   "id": "cdbdd426",
   "metadata": {},
   "outputs": [
    {
     "data": {
      "text/html": [
       "<div>\n",
       "<style scoped>\n",
       "    .dataframe tbody tr th:only-of-type {\n",
       "        vertical-align: middle;\n",
       "    }\n",
       "\n",
       "    .dataframe tbody tr th {\n",
       "        vertical-align: top;\n",
       "    }\n",
       "\n",
       "    .dataframe thead th {\n",
       "        text-align: right;\n",
       "    }\n",
       "</style>\n",
       "<table border=\"1\" class=\"dataframe\">\n",
       "  <thead>\n",
       "    <tr style=\"text-align: right;\">\n",
       "      <th></th>\n",
       "      <th>total_compound_tx_count</th>\n",
       "      <th>num_unique_tokens_interacted</th>\n",
       "      <th>total_gas_spent_usd</th>\n",
       "      <th>avg_tx_fee_usd</th>\n",
       "      <th>num_failed_txns</th>\n",
       "      <th>interaction_duration_days</th>\n",
       "      <th>num_approval_events</th>\n",
       "      <th>wallet_id</th>\n",
       "    </tr>\n",
       "  </thead>\n",
       "  <tbody>\n",
       "    <tr>\n",
       "      <th>0</th>\n",
       "      <td>15</td>\n",
       "      <td>3</td>\n",
       "      <td>802.744695</td>\n",
       "      <td>53.516313</td>\n",
       "      <td>0</td>\n",
       "      <td>447</td>\n",
       "      <td>4</td>\n",
       "      <td>0x0039f22efb07a647557c7c5d17854cfd6d489ef3</td>\n",
       "    </tr>\n",
       "    <tr>\n",
       "      <th>1</th>\n",
       "      <td>1</td>\n",
       "      <td>1</td>\n",
       "      <td>3.192217</td>\n",
       "      <td>3.192217</td>\n",
       "      <td>0</td>\n",
       "      <td>1</td>\n",
       "      <td>0</td>\n",
       "      <td>0x06b51c6882b27cb05e712185531c1f74996dd988</td>\n",
       "    </tr>\n",
       "    <tr>\n",
       "      <th>2</th>\n",
       "      <td>1</td>\n",
       "      <td>1</td>\n",
       "      <td>5.141339</td>\n",
       "      <td>5.141339</td>\n",
       "      <td>0</td>\n",
       "      <td>1</td>\n",
       "      <td>0</td>\n",
       "      <td>0x0795732aacc448030ef374374eaae57d2965c16c</td>\n",
       "    </tr>\n",
       "    <tr>\n",
       "      <th>3</th>\n",
       "      <td>1</td>\n",
       "      <td>1</td>\n",
       "      <td>2.390461</td>\n",
       "      <td>2.390461</td>\n",
       "      <td>0</td>\n",
       "      <td>1</td>\n",
       "      <td>0</td>\n",
       "      <td>0x0aaa79f1a86bc8136cd0d1ca0d51964f4e3766f9</td>\n",
       "    </tr>\n",
       "    <tr>\n",
       "      <th>4</th>\n",
       "      <td>1</td>\n",
       "      <td>1</td>\n",
       "      <td>2.931785</td>\n",
       "      <td>2.931785</td>\n",
       "      <td>0</td>\n",
       "      <td>1</td>\n",
       "      <td>0</td>\n",
       "      <td>0x0fe383e5abc200055a7f391f94a5f5d1f844b9ae</td>\n",
       "    </tr>\n",
       "    <tr>\n",
       "      <th>5</th>\n",
       "      <td>1</td>\n",
       "      <td>1</td>\n",
       "      <td>5.532949</td>\n",
       "      <td>5.532949</td>\n",
       "      <td>0</td>\n",
       "      <td>1</td>\n",
       "      <td>0</td>\n",
       "      <td>0x104ae61d8d487ad689969a17807ddc338b445416</td>\n",
       "    </tr>\n",
       "    <tr>\n",
       "      <th>6</th>\n",
       "      <td>2</td>\n",
       "      <td>1</td>\n",
       "      <td>2.797852</td>\n",
       "      <td>1.398926</td>\n",
       "      <td>0</td>\n",
       "      <td>1</td>\n",
       "      <td>0</td>\n",
       "      <td>0x111c7208a7e2af345d36b6d4aace8740d61a3078</td>\n",
       "    </tr>\n",
       "    <tr>\n",
       "      <th>7</th>\n",
       "      <td>3</td>\n",
       "      <td>2</td>\n",
       "      <td>3.227780</td>\n",
       "      <td>1.075927</td>\n",
       "      <td>0</td>\n",
       "      <td>1</td>\n",
       "      <td>0</td>\n",
       "      <td>0x124853fecb522c57d9bd5c21231058696ca6d596</td>\n",
       "    </tr>\n",
       "    <tr>\n",
       "      <th>8</th>\n",
       "      <td>1</td>\n",
       "      <td>1</td>\n",
       "      <td>3.394181</td>\n",
       "      <td>3.394181</td>\n",
       "      <td>0</td>\n",
       "      <td>1</td>\n",
       "      <td>0</td>\n",
       "      <td>0x13b1c8b0e696aff8b4fee742119b549b605f3cbc</td>\n",
       "    </tr>\n",
       "    <tr>\n",
       "      <th>9</th>\n",
       "      <td>1</td>\n",
       "      <td>1</td>\n",
       "      <td>4.052736</td>\n",
       "      <td>4.052736</td>\n",
       "      <td>0</td>\n",
       "      <td>1</td>\n",
       "      <td>0</td>\n",
       "      <td>0x19df3e87f73c4aaf4809295561465b993e102668</td>\n",
       "    </tr>\n",
       "    <tr>\n",
       "      <th>10</th>\n",
       "      <td>1</td>\n",
       "      <td>1</td>\n",
       "      <td>2.908030</td>\n",
       "      <td>2.908030</td>\n",
       "      <td>0</td>\n",
       "      <td>1</td>\n",
       "      <td>0</td>\n",
       "      <td>0x1ab2ccad4fc97c9968ea87d4435326715be32872</td>\n",
       "    </tr>\n",
       "    <tr>\n",
       "      <th>11</th>\n",
       "      <td>10</td>\n",
       "      <td>2</td>\n",
       "      <td>124.871489</td>\n",
       "      <td>12.487149</td>\n",
       "      <td>0</td>\n",
       "      <td>25</td>\n",
       "      <td>0</td>\n",
       "      <td>0x1c1b30ca93ef57452d53885d97a74f61daf2bf4f</td>\n",
       "    </tr>\n",
       "    <tr>\n",
       "      <th>12</th>\n",
       "      <td>1</td>\n",
       "      <td>1</td>\n",
       "      <td>1.321057</td>\n",
       "      <td>1.321057</td>\n",
       "      <td>0</td>\n",
       "      <td>1</td>\n",
       "      <td>0</td>\n",
       "      <td>0x1e43dacdcf863676a6bec8f7d6896d6252fac669</td>\n",
       "    </tr>\n",
       "    <tr>\n",
       "      <th>13</th>\n",
       "      <td>1</td>\n",
       "      <td>1</td>\n",
       "      <td>4.043305</td>\n",
       "      <td>4.043305</td>\n",
       "      <td>0</td>\n",
       "      <td>1</td>\n",
       "      <td>0</td>\n",
       "      <td>0x24b3460622d835c56d9a4fe352966b9bdc6c20af</td>\n",
       "    </tr>\n",
       "    <tr>\n",
       "      <th>14</th>\n",
       "      <td>1</td>\n",
       "      <td>1</td>\n",
       "      <td>5.340495</td>\n",
       "      <td>5.340495</td>\n",
       "      <td>0</td>\n",
       "      <td>1</td>\n",
       "      <td>0</td>\n",
       "      <td>0x26750f1f4277221bdb5f6991473c6ece8c821f9d</td>\n",
       "    </tr>\n",
       "    <tr>\n",
       "      <th>15</th>\n",
       "      <td>1</td>\n",
       "      <td>1</td>\n",
       "      <td>1.982735</td>\n",
       "      <td>1.982735</td>\n",
       "      <td>0</td>\n",
       "      <td>1</td>\n",
       "      <td>0</td>\n",
       "      <td>0x27f72a000d8e9f324583f3a3491ea66998275b28</td>\n",
       "    </tr>\n",
       "    <tr>\n",
       "      <th>16</th>\n",
       "      <td>1</td>\n",
       "      <td>1</td>\n",
       "      <td>4.975155</td>\n",
       "      <td>4.975155</td>\n",
       "      <td>0</td>\n",
       "      <td>1</td>\n",
       "      <td>0</td>\n",
       "      <td>0x2844658bf341db96aa247259824f42025e3bcec2</td>\n",
       "    </tr>\n",
       "    <tr>\n",
       "      <th>17</th>\n",
       "      <td>1</td>\n",
       "      <td>1</td>\n",
       "      <td>1.041261</td>\n",
       "      <td>1.041261</td>\n",
       "      <td>0</td>\n",
       "      <td>1</td>\n",
       "      <td>0</td>\n",
       "      <td>0x2a2fde3e1beb508fcf7c137a1d5965f13a17825e</td>\n",
       "    </tr>\n",
       "    <tr>\n",
       "      <th>18</th>\n",
       "      <td>10</td>\n",
       "      <td>3</td>\n",
       "      <td>2.409940</td>\n",
       "      <td>0.240994</td>\n",
       "      <td>0</td>\n",
       "      <td>30</td>\n",
       "      <td>0</td>\n",
       "      <td>0x330513970efd9e8dd606275fb4c50378989b3204</td>\n",
       "    </tr>\n",
       "    <tr>\n",
       "      <th>19</th>\n",
       "      <td>2</td>\n",
       "      <td>1</td>\n",
       "      <td>0.947851</td>\n",
       "      <td>0.473926</td>\n",
       "      <td>0</td>\n",
       "      <td>1</td>\n",
       "      <td>0</td>\n",
       "      <td>0x3361bea43c2f5f963f81ac70f64e6fba1f1d2a97</td>\n",
       "    </tr>\n",
       "    <tr>\n",
       "      <th>20</th>\n",
       "      <td>1</td>\n",
       "      <td>1</td>\n",
       "      <td>1.761255</td>\n",
       "      <td>1.761255</td>\n",
       "      <td>0</td>\n",
       "      <td>1</td>\n",
       "      <td>0</td>\n",
       "      <td>0x3867d222ba91236ad4d12c31056626f9e798629c</td>\n",
       "    </tr>\n",
       "    <tr>\n",
       "      <th>21</th>\n",
       "      <td>1</td>\n",
       "      <td>1</td>\n",
       "      <td>2.854458</td>\n",
       "      <td>2.854458</td>\n",
       "      <td>0</td>\n",
       "      <td>1</td>\n",
       "      <td>0</td>\n",
       "      <td>0x3a44be4581137019f83021eeee72b7dc57756069</td>\n",
       "    </tr>\n",
       "    <tr>\n",
       "      <th>22</th>\n",
       "      <td>1</td>\n",
       "      <td>1</td>\n",
       "      <td>1.995102</td>\n",
       "      <td>1.995102</td>\n",
       "      <td>0</td>\n",
       "      <td>1</td>\n",
       "      <td>0</td>\n",
       "      <td>0x3e69ad05716bdc834db72c4d6d44439a7c8a902b</td>\n",
       "    </tr>\n",
       "    <tr>\n",
       "      <th>23</th>\n",
       "      <td>44</td>\n",
       "      <td>4</td>\n",
       "      <td>109.497638</td>\n",
       "      <td>2.488583</td>\n",
       "      <td>0</td>\n",
       "      <td>1957</td>\n",
       "      <td>0</td>\n",
       "      <td>0x427f2ac5fdf4245e027d767e7c3ac272a1f40a65</td>\n",
       "    </tr>\n",
       "    <tr>\n",
       "      <th>24</th>\n",
       "      <td>52</td>\n",
       "      <td>4</td>\n",
       "      <td>332.889177</td>\n",
       "      <td>6.401715</td>\n",
       "      <td>0</td>\n",
       "      <td>153</td>\n",
       "      <td>2</td>\n",
       "      <td>0x4814be124d7fe3b240eb46061f7ddfab468fe122</td>\n",
       "    </tr>\n",
       "    <tr>\n",
       "      <th>25</th>\n",
       "      <td>5</td>\n",
       "      <td>2</td>\n",
       "      <td>196.975092</td>\n",
       "      <td>39.395018</td>\n",
       "      <td>0</td>\n",
       "      <td>42</td>\n",
       "      <td>0</td>\n",
       "      <td>0x4839e666e2baf12a51bf004392b35972eeddeabf</td>\n",
       "    </tr>\n",
       "    <tr>\n",
       "      <th>26</th>\n",
       "      <td>1</td>\n",
       "      <td>1</td>\n",
       "      <td>6.162747</td>\n",
       "      <td>6.162747</td>\n",
       "      <td>0</td>\n",
       "      <td>1</td>\n",
       "      <td>0</td>\n",
       "      <td>0x4c4d05fe859279c91b074429b5fc451182cec745</td>\n",
       "    </tr>\n",
       "    <tr>\n",
       "      <th>27</th>\n",
       "      <td>3</td>\n",
       "      <td>2</td>\n",
       "      <td>0.329271</td>\n",
       "      <td>0.109757</td>\n",
       "      <td>0</td>\n",
       "      <td>2</td>\n",
       "      <td>0</td>\n",
       "      <td>0x4d997c89bc659a3e8452038a8101161e7e7e53a7</td>\n",
       "    </tr>\n",
       "    <tr>\n",
       "      <th>28</th>\n",
       "      <td>1</td>\n",
       "      <td>1</td>\n",
       "      <td>4.614536</td>\n",
       "      <td>4.614536</td>\n",
       "      <td>0</td>\n",
       "      <td>1</td>\n",
       "      <td>0</td>\n",
       "      <td>0x4db0a72edb5ea6c55df929f76e7d5bb14e389860</td>\n",
       "    </tr>\n",
       "    <tr>\n",
       "      <th>29</th>\n",
       "      <td>1</td>\n",
       "      <td>1</td>\n",
       "      <td>4.272396</td>\n",
       "      <td>4.272396</td>\n",
       "      <td>0</td>\n",
       "      <td>1</td>\n",
       "      <td>0</td>\n",
       "      <td>0x4e61251336c32e4fe6bfd5fab014846599321389</td>\n",
       "    </tr>\n",
       "    <tr>\n",
       "      <th>30</th>\n",
       "      <td>1</td>\n",
       "      <td>1</td>\n",
       "      <td>1.561844</td>\n",
       "      <td>1.561844</td>\n",
       "      <td>0</td>\n",
       "      <td>1</td>\n",
       "      <td>0</td>\n",
       "      <td>0x4e6e724f4163b24ffc7ffe662b5f6815b18b4210</td>\n",
       "    </tr>\n",
       "    <tr>\n",
       "      <th>31</th>\n",
       "      <td>3</td>\n",
       "      <td>1</td>\n",
       "      <td>110.408356</td>\n",
       "      <td>36.802785</td>\n",
       "      <td>0</td>\n",
       "      <td>51</td>\n",
       "      <td>0</td>\n",
       "      <td>0x507b6c0d950702f066a9a1bd5e85206f87b065ba</td>\n",
       "    </tr>\n",
       "    <tr>\n",
       "      <th>32</th>\n",
       "      <td>1</td>\n",
       "      <td>1</td>\n",
       "      <td>2.344757</td>\n",
       "      <td>2.344757</td>\n",
       "      <td>0</td>\n",
       "      <td>1</td>\n",
       "      <td>0</td>\n",
       "      <td>0x56ba823641bfc317afc8459bf27feed6eb9ff59f</td>\n",
       "    </tr>\n",
       "    <tr>\n",
       "      <th>33</th>\n",
       "      <td>1</td>\n",
       "      <td>1</td>\n",
       "      <td>1.247266</td>\n",
       "      <td>1.247266</td>\n",
       "      <td>0</td>\n",
       "      <td>1</td>\n",
       "      <td>0</td>\n",
       "      <td>0x56cc2bffcb3f86a30c492f9d1a671a1f744d1d2f</td>\n",
       "    </tr>\n",
       "    <tr>\n",
       "      <th>34</th>\n",
       "      <td>1</td>\n",
       "      <td>1</td>\n",
       "      <td>6.350144</td>\n",
       "      <td>6.350144</td>\n",
       "      <td>0</td>\n",
       "      <td>1</td>\n",
       "      <td>0</td>\n",
       "      <td>0x578cea5f899b0dfbf05c7fbcfda1a644b2a47787</td>\n",
       "    </tr>\n",
       "    <tr>\n",
       "      <th>35</th>\n",
       "      <td>1</td>\n",
       "      <td>1</td>\n",
       "      <td>1.679687</td>\n",
       "      <td>1.679687</td>\n",
       "      <td>0</td>\n",
       "      <td>1</td>\n",
       "      <td>0</td>\n",
       "      <td>0x58c2a9099a03750e9842d3e9a7780cdd6aa70b86</td>\n",
       "    </tr>\n",
       "    <tr>\n",
       "      <th>36</th>\n",
       "      <td>5</td>\n",
       "      <td>1</td>\n",
       "      <td>69.223487</td>\n",
       "      <td>13.844697</td>\n",
       "      <td>0</td>\n",
       "      <td>1507</td>\n",
       "      <td>3</td>\n",
       "      <td>0x58d68d4bcf9725e40353379cec92b90332561683</td>\n",
       "    </tr>\n",
       "    <tr>\n",
       "      <th>37</th>\n",
       "      <td>1</td>\n",
       "      <td>1</td>\n",
       "      <td>2.043288</td>\n",
       "      <td>2.043288</td>\n",
       "      <td>0</td>\n",
       "      <td>1</td>\n",
       "      <td>0</td>\n",
       "      <td>0x5e324b4a564512ea7c93088dba2f8c1bf046a3eb</td>\n",
       "    </tr>\n",
       "    <tr>\n",
       "      <th>38</th>\n",
       "      <td>8</td>\n",
       "      <td>3</td>\n",
       "      <td>208.044415</td>\n",
       "      <td>26.005552</td>\n",
       "      <td>0</td>\n",
       "      <td>13</td>\n",
       "      <td>0</td>\n",
       "      <td>0x612a3500559be7be7703de6dc397afb541a16f7f</td>\n",
       "    </tr>\n",
       "    <tr>\n",
       "      <th>39</th>\n",
       "      <td>2</td>\n",
       "      <td>2</td>\n",
       "      <td>29.203141</td>\n",
       "      <td>14.601571</td>\n",
       "      <td>0</td>\n",
       "      <td>1183</td>\n",
       "      <td>0</td>\n",
       "      <td>0x623af911f493747c216ad389c7805a37019c662d</td>\n",
       "    </tr>\n",
       "    <tr>\n",
       "      <th>40</th>\n",
       "      <td>1</td>\n",
       "      <td>1</td>\n",
       "      <td>2.235843</td>\n",
       "      <td>2.235843</td>\n",
       "      <td>0</td>\n",
       "      <td>1</td>\n",
       "      <td>0</td>\n",
       "      <td>0x6a2752a534faacaaa153bffbb973dd84e0e5497b</td>\n",
       "    </tr>\n",
       "    <tr>\n",
       "      <th>41</th>\n",
       "      <td>1</td>\n",
       "      <td>1</td>\n",
       "      <td>1.762441</td>\n",
       "      <td>1.762441</td>\n",
       "      <td>0</td>\n",
       "      <td>1</td>\n",
       "      <td>0</td>\n",
       "      <td>0x6d69ca3711e504658977367e13c300ab198379f1</td>\n",
       "    </tr>\n",
       "    <tr>\n",
       "      <th>42</th>\n",
       "      <td>2</td>\n",
       "      <td>1</td>\n",
       "      <td>13.806363</td>\n",
       "      <td>6.903181</td>\n",
       "      <td>0</td>\n",
       "      <td>4</td>\n",
       "      <td>0</td>\n",
       "      <td>0x6e355417f7f56e7927d1cd971f0b5a1e6d538487</td>\n",
       "    </tr>\n",
       "    <tr>\n",
       "      <th>43</th>\n",
       "      <td>1</td>\n",
       "      <td>1</td>\n",
       "      <td>1.805796</td>\n",
       "      <td>1.805796</td>\n",
       "      <td>0</td>\n",
       "      <td>1</td>\n",
       "      <td>0</td>\n",
       "      <td>0x70c1864282599a762c674dd9d567b37e13bce755</td>\n",
       "    </tr>\n",
       "    <tr>\n",
       "      <th>44</th>\n",
       "      <td>38</td>\n",
       "      <td>4</td>\n",
       "      <td>27.718567</td>\n",
       "      <td>0.729436</td>\n",
       "      <td>1</td>\n",
       "      <td>1173</td>\n",
       "      <td>0</td>\n",
       "      <td>0x70d8e4ab175dfe0eab4e9a7f33e0a2d19f44001e</td>\n",
       "    </tr>\n",
       "    <tr>\n",
       "      <th>45</th>\n",
       "      <td>1</td>\n",
       "      <td>1</td>\n",
       "      <td>3.517003</td>\n",
       "      <td>3.517003</td>\n",
       "      <td>0</td>\n",
       "      <td>1</td>\n",
       "      <td>0</td>\n",
       "      <td>0x7399dbeebe2f88bc6ac4e3fd7ddb836a4bce322f</td>\n",
       "    </tr>\n",
       "    <tr>\n",
       "      <th>46</th>\n",
       "      <td>1</td>\n",
       "      <td>1</td>\n",
       "      <td>1.593746</td>\n",
       "      <td>1.593746</td>\n",
       "      <td>0</td>\n",
       "      <td>1</td>\n",
       "      <td>0</td>\n",
       "      <td>0x767055590c73b7d2aaa6219da13807c493f91a20</td>\n",
       "    </tr>\n",
       "    <tr>\n",
       "      <th>47</th>\n",
       "      <td>1</td>\n",
       "      <td>1</td>\n",
       "      <td>4.686035</td>\n",
       "      <td>4.686035</td>\n",
       "      <td>0</td>\n",
       "      <td>1</td>\n",
       "      <td>0</td>\n",
       "      <td>0x7b4636320daa0bc055368a4f9b9d01bd8ac51877</td>\n",
       "    </tr>\n",
       "    <tr>\n",
       "      <th>48</th>\n",
       "      <td>3</td>\n",
       "      <td>1</td>\n",
       "      <td>5.531141</td>\n",
       "      <td>1.843714</td>\n",
       "      <td>0</td>\n",
       "      <td>1</td>\n",
       "      <td>0</td>\n",
       "      <td>0x7b57dbe2f2e4912a29754ff3e412ed9507fd8957</td>\n",
       "    </tr>\n",
       "    <tr>\n",
       "      <th>49</th>\n",
       "      <td>2</td>\n",
       "      <td>1</td>\n",
       "      <td>2.462050</td>\n",
       "      <td>1.231025</td>\n",
       "      <td>0</td>\n",
       "      <td>1</td>\n",
       "      <td>0</td>\n",
       "      <td>0x7be3dfb5b6fcbae542ea85e76cc19916a20f6c1e</td>\n",
       "    </tr>\n",
       "  </tbody>\n",
       "</table>\n",
       "</div>"
      ],
      "text/plain": [
       "    total_compound_tx_count  num_unique_tokens_interacted  \\\n",
       "0                        15                             3   \n",
       "1                         1                             1   \n",
       "2                         1                             1   \n",
       "3                         1                             1   \n",
       "4                         1                             1   \n",
       "5                         1                             1   \n",
       "6                         2                             1   \n",
       "7                         3                             2   \n",
       "8                         1                             1   \n",
       "9                         1                             1   \n",
       "10                        1                             1   \n",
       "11                       10                             2   \n",
       "12                        1                             1   \n",
       "13                        1                             1   \n",
       "14                        1                             1   \n",
       "15                        1                             1   \n",
       "16                        1                             1   \n",
       "17                        1                             1   \n",
       "18                       10                             3   \n",
       "19                        2                             1   \n",
       "20                        1                             1   \n",
       "21                        1                             1   \n",
       "22                        1                             1   \n",
       "23                       44                             4   \n",
       "24                       52                             4   \n",
       "25                        5                             2   \n",
       "26                        1                             1   \n",
       "27                        3                             2   \n",
       "28                        1                             1   \n",
       "29                        1                             1   \n",
       "30                        1                             1   \n",
       "31                        3                             1   \n",
       "32                        1                             1   \n",
       "33                        1                             1   \n",
       "34                        1                             1   \n",
       "35                        1                             1   \n",
       "36                        5                             1   \n",
       "37                        1                             1   \n",
       "38                        8                             3   \n",
       "39                        2                             2   \n",
       "40                        1                             1   \n",
       "41                        1                             1   \n",
       "42                        2                             1   \n",
       "43                        1                             1   \n",
       "44                       38                             4   \n",
       "45                        1                             1   \n",
       "46                        1                             1   \n",
       "47                        1                             1   \n",
       "48                        3                             1   \n",
       "49                        2                             1   \n",
       "\n",
       "    total_gas_spent_usd  avg_tx_fee_usd  num_failed_txns  \\\n",
       "0            802.744695       53.516313                0   \n",
       "1              3.192217        3.192217                0   \n",
       "2              5.141339        5.141339                0   \n",
       "3              2.390461        2.390461                0   \n",
       "4              2.931785        2.931785                0   \n",
       "5              5.532949        5.532949                0   \n",
       "6              2.797852        1.398926                0   \n",
       "7              3.227780        1.075927                0   \n",
       "8              3.394181        3.394181                0   \n",
       "9              4.052736        4.052736                0   \n",
       "10             2.908030        2.908030                0   \n",
       "11           124.871489       12.487149                0   \n",
       "12             1.321057        1.321057                0   \n",
       "13             4.043305        4.043305                0   \n",
       "14             5.340495        5.340495                0   \n",
       "15             1.982735        1.982735                0   \n",
       "16             4.975155        4.975155                0   \n",
       "17             1.041261        1.041261                0   \n",
       "18             2.409940        0.240994                0   \n",
       "19             0.947851        0.473926                0   \n",
       "20             1.761255        1.761255                0   \n",
       "21             2.854458        2.854458                0   \n",
       "22             1.995102        1.995102                0   \n",
       "23           109.497638        2.488583                0   \n",
       "24           332.889177        6.401715                0   \n",
       "25           196.975092       39.395018                0   \n",
       "26             6.162747        6.162747                0   \n",
       "27             0.329271        0.109757                0   \n",
       "28             4.614536        4.614536                0   \n",
       "29             4.272396        4.272396                0   \n",
       "30             1.561844        1.561844                0   \n",
       "31           110.408356       36.802785                0   \n",
       "32             2.344757        2.344757                0   \n",
       "33             1.247266        1.247266                0   \n",
       "34             6.350144        6.350144                0   \n",
       "35             1.679687        1.679687                0   \n",
       "36            69.223487       13.844697                0   \n",
       "37             2.043288        2.043288                0   \n",
       "38           208.044415       26.005552                0   \n",
       "39            29.203141       14.601571                0   \n",
       "40             2.235843        2.235843                0   \n",
       "41             1.762441        1.762441                0   \n",
       "42            13.806363        6.903181                0   \n",
       "43             1.805796        1.805796                0   \n",
       "44            27.718567        0.729436                1   \n",
       "45             3.517003        3.517003                0   \n",
       "46             1.593746        1.593746                0   \n",
       "47             4.686035        4.686035                0   \n",
       "48             5.531141        1.843714                0   \n",
       "49             2.462050        1.231025                0   \n",
       "\n",
       "    interaction_duration_days  num_approval_events  \\\n",
       "0                         447                    4   \n",
       "1                           1                    0   \n",
       "2                           1                    0   \n",
       "3                           1                    0   \n",
       "4                           1                    0   \n",
       "5                           1                    0   \n",
       "6                           1                    0   \n",
       "7                           1                    0   \n",
       "8                           1                    0   \n",
       "9                           1                    0   \n",
       "10                          1                    0   \n",
       "11                         25                    0   \n",
       "12                          1                    0   \n",
       "13                          1                    0   \n",
       "14                          1                    0   \n",
       "15                          1                    0   \n",
       "16                          1                    0   \n",
       "17                          1                    0   \n",
       "18                         30                    0   \n",
       "19                          1                    0   \n",
       "20                          1                    0   \n",
       "21                          1                    0   \n",
       "22                          1                    0   \n",
       "23                       1957                    0   \n",
       "24                        153                    2   \n",
       "25                         42                    0   \n",
       "26                          1                    0   \n",
       "27                          2                    0   \n",
       "28                          1                    0   \n",
       "29                          1                    0   \n",
       "30                          1                    0   \n",
       "31                         51                    0   \n",
       "32                          1                    0   \n",
       "33                          1                    0   \n",
       "34                          1                    0   \n",
       "35                          1                    0   \n",
       "36                       1507                    3   \n",
       "37                          1                    0   \n",
       "38                         13                    0   \n",
       "39                       1183                    0   \n",
       "40                          1                    0   \n",
       "41                          1                    0   \n",
       "42                          4                    0   \n",
       "43                          1                    0   \n",
       "44                       1173                    0   \n",
       "45                          1                    0   \n",
       "46                          1                    0   \n",
       "47                          1                    0   \n",
       "48                          1                    0   \n",
       "49                          1                    0   \n",
       "\n",
       "                                     wallet_id  \n",
       "0   0x0039f22efb07a647557c7c5d17854cfd6d489ef3  \n",
       "1   0x06b51c6882b27cb05e712185531c1f74996dd988  \n",
       "2   0x0795732aacc448030ef374374eaae57d2965c16c  \n",
       "3   0x0aaa79f1a86bc8136cd0d1ca0d51964f4e3766f9  \n",
       "4   0x0fe383e5abc200055a7f391f94a5f5d1f844b9ae  \n",
       "5   0x104ae61d8d487ad689969a17807ddc338b445416  \n",
       "6   0x111c7208a7e2af345d36b6d4aace8740d61a3078  \n",
       "7   0x124853fecb522c57d9bd5c21231058696ca6d596  \n",
       "8   0x13b1c8b0e696aff8b4fee742119b549b605f3cbc  \n",
       "9   0x19df3e87f73c4aaf4809295561465b993e102668  \n",
       "10  0x1ab2ccad4fc97c9968ea87d4435326715be32872  \n",
       "11  0x1c1b30ca93ef57452d53885d97a74f61daf2bf4f  \n",
       "12  0x1e43dacdcf863676a6bec8f7d6896d6252fac669  \n",
       "13  0x24b3460622d835c56d9a4fe352966b9bdc6c20af  \n",
       "14  0x26750f1f4277221bdb5f6991473c6ece8c821f9d  \n",
       "15  0x27f72a000d8e9f324583f3a3491ea66998275b28  \n",
       "16  0x2844658bf341db96aa247259824f42025e3bcec2  \n",
       "17  0x2a2fde3e1beb508fcf7c137a1d5965f13a17825e  \n",
       "18  0x330513970efd9e8dd606275fb4c50378989b3204  \n",
       "19  0x3361bea43c2f5f963f81ac70f64e6fba1f1d2a97  \n",
       "20  0x3867d222ba91236ad4d12c31056626f9e798629c  \n",
       "21  0x3a44be4581137019f83021eeee72b7dc57756069  \n",
       "22  0x3e69ad05716bdc834db72c4d6d44439a7c8a902b  \n",
       "23  0x427f2ac5fdf4245e027d767e7c3ac272a1f40a65  \n",
       "24  0x4814be124d7fe3b240eb46061f7ddfab468fe122  \n",
       "25  0x4839e666e2baf12a51bf004392b35972eeddeabf  \n",
       "26  0x4c4d05fe859279c91b074429b5fc451182cec745  \n",
       "27  0x4d997c89bc659a3e8452038a8101161e7e7e53a7  \n",
       "28  0x4db0a72edb5ea6c55df929f76e7d5bb14e389860  \n",
       "29  0x4e61251336c32e4fe6bfd5fab014846599321389  \n",
       "30  0x4e6e724f4163b24ffc7ffe662b5f6815b18b4210  \n",
       "31  0x507b6c0d950702f066a9a1bd5e85206f87b065ba  \n",
       "32  0x56ba823641bfc317afc8459bf27feed6eb9ff59f  \n",
       "33  0x56cc2bffcb3f86a30c492f9d1a671a1f744d1d2f  \n",
       "34  0x578cea5f899b0dfbf05c7fbcfda1a644b2a47787  \n",
       "35  0x58c2a9099a03750e9842d3e9a7780cdd6aa70b86  \n",
       "36  0x58d68d4bcf9725e40353379cec92b90332561683  \n",
       "37  0x5e324b4a564512ea7c93088dba2f8c1bf046a3eb  \n",
       "38  0x612a3500559be7be7703de6dc397afb541a16f7f  \n",
       "39  0x623af911f493747c216ad389c7805a37019c662d  \n",
       "40  0x6a2752a534faacaaa153bffbb973dd84e0e5497b  \n",
       "41  0x6d69ca3711e504658977367e13c300ab198379f1  \n",
       "42  0x6e355417f7f56e7927d1cd971f0b5a1e6d538487  \n",
       "43  0x70c1864282599a762c674dd9d567b37e13bce755  \n",
       "44  0x70d8e4ab175dfe0eab4e9a7f33e0a2d19f44001e  \n",
       "45  0x7399dbeebe2f88bc6ac4e3fd7ddb836a4bce322f  \n",
       "46  0x767055590c73b7d2aaa6219da13807c493f91a20  \n",
       "47  0x7b4636320daa0bc055368a4f9b9d01bd8ac51877  \n",
       "48  0x7b57dbe2f2e4912a29754ff3e412ed9507fd8957  \n",
       "49  0x7be3dfb5b6fcbae542ea85e76cc19916a20f6c1e  "
      ]
     },
     "execution_count": 141,
     "metadata": {},
     "output_type": "execute_result"
    }
   ],
   "source": [
    "features_df.head(50)"
   ]
  },
  {
   "cell_type": "markdown",
   "id": "9847f5ea",
   "metadata": {},
   "source": [
    "# Scoring Logic"
   ]
  },
  {
   "cell_type": "code",
   "execution_count": 149,
   "id": "25ace3df",
   "metadata": {},
   "outputs": [
    {
     "name": "stdout",
     "output_type": "stream",
     "text": [
      "                                    wallet_id   score\n",
      "0  0x0039f22efb07a647557c7c5d17854cfd6d489ef3  989.36\n",
      "1  0x06b51c6882b27cb05e712185531c1f74996dd988  361.70\n",
      "2  0x0795732aacc448030ef374374eaae57d2965c16c  510.64\n",
      "3  0x0aaa79f1a86bc8136cd0d1ca0d51964f4e3766f9  287.23\n",
      "4  0x0fe383e5abc200055a7f391f94a5f5d1f844b9ae  351.06\n",
      "5  0x104ae61d8d487ad689969a17807ddc338b445416  542.55\n",
      "6  0x111c7208a7e2af345d36b6d4aace8740d61a3078  617.02\n",
      "7  0x124853fecb522c57d9bd5c21231058696ca6d596  776.60\n",
      "8  0x13b1c8b0e696aff8b4fee742119b549b605f3cbc  372.34\n",
      "9  0x19df3e87f73c4aaf4809295561465b993e102668  446.81\n"
     ]
    },
    {
     "name": "stderr",
     "output_type": "stream",
     "text": [
      "C:\\Users\\LENOVO\\AppData\\Local\\Temp\\ipykernel_11432\\993558094.py:30: SettingWithCopyWarning: \n",
      "A value is trying to be set on a copy of a slice from a DataFrame.\n",
      "Try using .loc[row_indexer,col_indexer] = value instead\n",
      "\n",
      "See the caveats in the documentation: https://pandas.pydata.org/pandas-docs/stable/user_guide/indexing.html#returning-a-view-versus-a-copy\n",
      "  final_df['score'] = final_df['score'].round(2)\n"
     ]
    }
   ],
   "source": [
    "from sklearn.preprocessing import StandardScaler\n",
    "import pandas as pd\n",
    "\n",
    "df = features_df.copy()\n",
    "\n",
    "feature_cols = [\n",
    "    'total_compound_tx_count',\n",
    "    'num_unique_tokens_interacted',\n",
    "    'total_gas_spent_usd',\n",
    "    'interaction_duration_days',\n",
    "    'num_approval_events'\n",
    "]\n",
    "\n",
    "scaler = StandardScaler()\n",
    "scaled_features = scaler.fit_transform(df[feature_cols])\n",
    "scaled_df = pd.DataFrame(scaled_features, columns=feature_cols)\n",
    "\n",
    "scaled_df['score_raw'] = (\n",
    "    scaled_df['total_compound_tx_count'] * 0.2 +\n",
    "    scaled_df['num_unique_tokens_interacted'] * 0.2 +\n",
    "    scaled_df['total_gas_spent_usd'] * 0.3 +\n",
    "    scaled_df['interaction_duration_days'] * 0.2 +\n",
    "    scaled_df['num_approval_events'] * 0.1\n",
    ")\n",
    "\n",
    "scaled_df['score'] = scaled_df['score_raw'].rank(pct=True) * 1000\n",
    "scaled_df['wallet_id'] = df['wallet_id']\n",
    "\n",
    "final_df = scaled_df[['wallet_id', 'score']]\n",
    "final_df['score'] = final_df['score'].round(2)\n",
    "\n",
    "print(final_df.head(10))"
   ]
  },
  {
   "cell_type": "markdown",
   "id": "896da13f",
   "metadata": {},
   "source": [
    "# Visualiztion"
   ]
  },
  {
   "cell_type": "code",
   "execution_count": 150,
   "id": "7a848b9b",
   "metadata": {},
   "outputs": [
    {
     "data": {
      "image/png": "[encoded data removed]",
      "text/plain": [
       "<Figure size 640x480 with 1 Axes>"
      ]
     },
     "metadata": {},
     "output_type": "display_data"
    }
   ],
   "source": [
    "import matplotlib.pyplot as plt\n",
    "\n",
    "plt.hist(final_df['score'])\n",
    "plt.show()\n"
   ]
  },
  {
   "cell_type": "code",
   "execution_count": 151,
   "id": "a8ec1f70",
   "metadata": {},
   "outputs": [
    {
     "data": {
      "image/png": "[encoded data removed]",
      "text/plain": [
       "<Figure size 1200x600 with 1 Axes>"
      ]
     },
     "metadata": {},
     "output_type": "display_data"
    }
   ],
   "source": [
    "import matplotlib.pyplot as plt\n",
    "\n",
    "plt.figure(figsize=(12, 6))\n",
    "plt.plot(final_df['wallet_id'], final_df['score'], marker='o', linestyle='-')\n",
    "plt.title('Wallet Credit Scores')\n",
    "plt.xlabel('Wallet ID')\n",
    "plt.ylabel('Credit Score')\n",
    "plt.grid(True)\n",
    "plt.tight_layout()\n",
    "plt.show()"
   ]
  },
  {
   "cell_type": "markdown",
   "id": "e5d1f94a",
   "metadata": {},
   "source": [
    "# Save Output"
   ]
  },
  {
   "cell_type": "code",
   "execution_count": 152,
   "id": "916f17de",
   "metadata": {},
   "outputs": [],
   "source": [
    "import os\n",
    "\n",
    "# Create the output folder if it doesn't exist\n",
    "os.makedirs(\"output\", exist_ok=True)\n",
    "\n",
    "# Save the DataFrame to CSV\n",
    "final_df.to_csv(\"output/wallet_scores.csv\", index=False)\n"
   ]
  },
  {
   "cell_type": "code",
   "execution_count": null,
   "id": "5f53e0f0",
   "metadata": {},
   "outputs": [],
   "source": []
  }
 ],
 "metadata": {
  "kernelspec": {
   "display_name": "creditenv",
   "language": "python",
   "name": "python3"
  },
  "language_info": {
   "codemirror_mode": {
    "name": "ipython",
    "version": 3
   },
   "file_extension": ".py",
   "mimetype": "text/x-python",
   "name": "python",
   "nbconvert_exporter": "python",
   "pygments_lexer": "ipython3",
   "version": "3.11.13"
  }
 },
 "nbformat": 4,
 "nbformat_minor": 5
}
